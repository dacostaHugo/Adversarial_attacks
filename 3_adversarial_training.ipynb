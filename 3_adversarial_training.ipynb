{
  "nbformat": 4,
  "nbformat_minor": 0,
  "metadata": {
    "accelerator": "GPU",
    "colab": {
      "name": "3_adversarial_training.ipynb",
      "provenance": [],
      "collapsed_sections": [],
      "toc_visible": true
    },
    "environment": {
      "name": "pytorch-gpu.1-4.m58",
      "type": "gcloud",
      "uri": "gcr.io/deeplearning-platform-release/pytorch-gpu.1-4:m58"
    },
    "kernelspec": {
      "display_name": "Python 3",
      "language": "python",
      "name": "python3"
    },
    "language_info": {
      "codemirror_mode": {
        "name": "ipython",
        "version": 3
      },
      "file_extension": ".py",
      "mimetype": "text/x-python",
      "name": "python",
      "nbconvert_exporter": "python",
      "pygments_lexer": "ipython3",
      "version": "3.7.8"
    }
  },
  "cells": [
    {
      "cell_type": "markdown",
      "metadata": {
        "id": "YXzbxtmdnM9m"
      },
      "source": [
        "# Project of Machine Learning : Adversarial attacks"
      ]
    },
    {
      "cell_type": "markdown",
      "metadata": {
        "id": "KvuRlsL84AxK"
      },
      "source": [
        "#### Loading data and Normalizing"
      ]
    },
    {
      "cell_type": "code",
      "metadata": {
        "id": "SpC3m-Hp3yun"
      },
      "source": [
        "import torch\n",
        "import torchvision\n",
        "from torchvision import datasets, transforms\n",
        "from torch.utils.data.sampler import SubsetRandomSampler\n",
        "from torch.utils.data import Subset\n",
        "import torch.nn as nn\n",
        "import torch.nn.functional as F\n",
        "\n",
        "import numpy as np\n",
        "import matplotlib.pyplot as plt"
      ],
      "execution_count": null,
      "outputs": []
    },
    {
      "cell_type": "code",
      "metadata": {
        "id": "nLsk8CHJdKYR"
      },
      "source": [
        "from sklearn.metrics import confusion_matrix\n",
        "from sklearn.model_selection import train_test_split\n",
        "import torch.optim as optim\n",
        "from tqdm import tqdm\n",
        "import os"
      ],
      "execution_count": null,
      "outputs": []
    },
    {
      "cell_type": "code",
      "metadata": {
        "id": "EkcUzf4s67V_",
        "outputId": "f49217b7-49f7-4ea0-d594-c63525002728",
        "colab": {
          "base_uri": "https://localhost:8080/"
        }
      },
      "source": [
        "DEVICE = torch.device(\"cuda\" if torch.cuda.is_available() else \"cpu\")\n",
        "DEVICE"
      ],
      "execution_count": null,
      "outputs": [
        {
          "output_type": "execute_result",
          "data": {
            "text/plain": [
              "device(type='cuda')"
            ]
          },
          "metadata": {
            "tags": []
          },
          "execution_count": 3
        }
      ]
    },
    {
      "cell_type": "code",
      "metadata": {
        "id": "CcTFTg3D3lI-",
        "outputId": "2c4788af-3a15-4587-d993-8fb6e08424cd",
        "colab": {
          "resources": {
            "http://localhost:8080/nbextensions/google.colab/files.js": {
              "data": "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",
              "ok": true,
              "headers": [
                [
                  "content-type",
                  "application/javascript"
                ]
              ],
              "status": 200,
              "status_text": ""
            }
          },
          "base_uri": "https://localhost:8080/",
          "height": 91
        }
      },
      "source": [
        "from google.colab import files\n",
        "\n",
        "uploaded = files.upload()\n",
        "for fn in uploaded.keys() :\n",
        "  print('User uploaded file \"{name}\" with length {length} bytes'.format(\n",
        "     name=fn, length=len(uploaded[fn])))"
      ],
      "execution_count": null,
      "outputs": [
        {
          "output_type": "display_data",
          "data": {
            "text/html": [
              "\n",
              "     <input type=\"file\" id=\"files-128f56c1-d7e1-4a77-8aee-591c64082577\" name=\"files[]\" multiple disabled\n",
              "        style=\"border:none\" />\n",
              "     <output id=\"result-128f56c1-d7e1-4a77-8aee-591c64082577\">\n",
              "      Upload widget is only available when the cell has been executed in the\n",
              "      current browser session. Please rerun this cell to enable.\n",
              "      </output>\n",
              "      <script src=\"/nbextensions/google.colab/files.js\"></script> "
            ],
            "text/plain": [
              "<IPython.core.display.HTML object>"
            ]
          },
          "metadata": {
            "tags": []
          }
        },
        {
          "output_type": "stream",
          "text": [
            "Saving cifar_net_CLASSIC_10epochs.pth to cifar_net_CLASSIC_10epochs.pth\n",
            "User uploaded file \"cifar_net_CLASSIC_10epochs.pth\" with length 683061 bytes\n"
          ],
          "name": "stdout"
        }
      ]
    },
    {
      "cell_type": "code",
      "metadata": {
        "id": "L1r33YVM4Fzr",
        "outputId": "1f2999a9-8c89-40e2-8d58-4f56658ad1c5",
        "colab": {
          "base_uri": "https://localhost:8080/"
        }
      },
      "source": [
        "transform = transforms.Compose(\n",
        "    [transforms.ToTensor(),\n",
        "     transforms.Normalize((0.5, 0.5, 0.5), (0.5, 0.5, 0.5))])\n",
        "\n",
        "trainset = torchvision.datasets.CIFAR10(root='./data', train=True,\n",
        "                                        download=True, transform=transform)\n",
        "\n",
        "trainloader = torch.utils.data.DataLoader(trainset, batch_size=4,\n",
        "                                          shuffle=True, num_workers=2)\n",
        "\n",
        "testset = torchvision.datasets.CIFAR10(root='./data', train=False,\n",
        "                                       download=True, transform=transform)\n",
        "\n",
        "testloader = torch.utils.data.DataLoader(testset, batch_size=64,\n",
        "                                         shuffle=False, num_workers=2)\n",
        "\n",
        "classes = ('plane', 'car', 'bird', 'cat',\n",
        "           'deer', 'dog', 'frog', 'horse', 'ship', 'truck')"
      ],
      "execution_count": null,
      "outputs": [
        {
          "output_type": "stream",
          "text": [
            "Files already downloaded and verified\n",
            "Files already downloaded and verified\n"
          ],
          "name": "stdout"
        }
      ]
    },
    {
      "cell_type": "code",
      "metadata": {
        "id": "z2SuEHgm0rM8"
      },
      "source": [
        "# functions to show an image\n",
        "\n",
        "def imshow(img):\n",
        "    img = img / 2 + 0.5     # unnormalize\n",
        "    npimg = img.numpy()\n",
        "    plt.imshow(np.transpose(npimg, (1, 2, 0)))\n",
        "    plt.show()\n",
        "\n",
        "def imsave(img, count=None, categorie=None):\n",
        "    img = img / 2 + 0.5     # unnormalize\n",
        "    npimg = img.numpy()\n",
        "    plt.imshow(np.transpose(npimg, (1, 2, 0)))\n",
        "    if count != None and categorie != None :\n",
        "      plt.savefig(\"{}_images_{}\".format(count, categorie))\n",
        "    #plt.show()"
      ],
      "execution_count": null,
      "outputs": []
    },
    {
      "cell_type": "markdown",
      "metadata": {
        "id": "8DE_rYa89tGQ"
      },
      "source": [
        "#### Clean definition of all the iterator over Data"
      ]
    },
    {
      "cell_type": "code",
      "metadata": {
        "id": "XPqmcRho9t8V"
      },
      "source": [
        "def train_val_dataset(dataset, val_split=0.1):\n",
        "    train_idx, val_idx = train_test_split(list(range(len(dataset))), test_size=val_split)\n",
        "    datasets = {}\n",
        "    datasets['train'] = Subset(dataset, train_idx)\n",
        "    datasets['val'] = Subset(dataset, val_idx)\n",
        "    return datasets\n",
        "\n",
        "\n",
        "def data_loading(set_data, repartition_train_valid, b_size, training=False):\n",
        "  if training :\n",
        "    print(\"Loading of Training and Validation sets !\")\n",
        "    datasets = train_val_dataset(set_data, repartition_train_valid)\n",
        "    dataloaders = {x : torch.utils.data.DataLoader(datasets[x], batch_size=b_size, shuffle=True, num_workers=2) for x in ['train','val']}\n",
        "    trainloader = dataloaders['train']\n",
        "    validloader = dataloaders['val']\n",
        "    return trainloader, validloader\n",
        "  \n",
        "  else :\n",
        "    print(\"Loading of the Test set !\")\n",
        "    testloader = torch.utils.data.DataLoader(set_data, batch_size=b_size,\n",
        "                                              shuffle=True, num_workers=2)\n",
        "    return testloader"
      ],
      "execution_count": null,
      "outputs": []
    },
    {
      "cell_type": "markdown",
      "metadata": {
        "id": "F8esB5xg46zZ"
      },
      "source": [
        "#### Class of our CNN"
      ]
    },
    {
      "cell_type": "code",
      "metadata": {
        "id": "lE0hAS1O4JN1"
      },
      "source": [
        "class Net(nn.Module): \n",
        "    def __init__(self):\n",
        "        super(Net, self).__init__()\n",
        "        self.conv1 = nn.Conv2d(3, 32, 3)\n",
        "        self.conv2 = nn.Conv2d(32, 64, 3)\n",
        "        self.conv3 = nn.Conv2d(64, 128, 3)\n",
        "        self.pool = nn.MaxPool2d(2, 2)\n",
        "        self.fc1 = nn.Linear(128 * 2 * 2, 128)\n",
        "        self.fc2 = nn.Linear(128, 64)\n",
        "        self.fc3 = nn.Linear(64, 32)\n",
        "        self.fc4 = nn.Linear(32, 10)\n",
        "        self.dropout1 = nn.Dropout(p=0.2, inplace=False)\n",
        "\n",
        "    def forward(self, x):\n",
        "        x = self.pool(F.relu(self.conv1(x)))\n",
        "        x = self.dropout1(x)\n",
        "        x = self.pool(F.relu(self.conv2(x)))\n",
        "        x = self.dropout1(x)\n",
        "        x = self.pool(F.relu(self.conv3(x)))\n",
        "        x = self.dropout1(x)\n",
        "        x = x.view(-1, 128 * 2 * 2)\n",
        "        x = F.relu(self.fc1(x))\n",
        "        x = F.relu(self.fc2(x))\n",
        "        x = F.relu(self.fc3(x))\n",
        "        x = self.fc4(x)\n",
        "        return x\n",
        "      \n",
        "\n",
        "    def fit(self, train_set, test_set, batch_size, nb_epochs, criterion, learning_r, DEVICE):\n",
        "      train, valid = data_loading(train_set, 0.1, batch_size, training=True)\n",
        "      test = data_loading(test_set, 0.1, batch_size, training=False)\n",
        "      optimizer = optim.SGD(self.parameters(), lr=learning_r, momentum=0.9)\n",
        "      \n",
        "      loss_total = []\n",
        "      valid_loss_total = []\n",
        "      acc_total = []\n",
        "\n",
        "      for epoch in range(nb_epochs):  # loop over the dataset multiple times\n",
        "        running_loss = 0.0\n",
        "        valid_loss = 0.0\n",
        "        temp = []\n",
        "        for i, data in enumerate(train, 0):\n",
        "          # get the inputs; data is a list of [inputs, labels]\n",
        "          inputs, labels = data[0].to(DEVICE), data[1].to(DEVICE)\n",
        "\n",
        "          # zero the parameter gradients\n",
        "          optimizer.zero_grad()\n",
        "\n",
        "          # forward + backward + optimize\n",
        "          outputs = self.forward(inputs)\n",
        "          loss = criterion(outputs, labels)\n",
        "          loss.backward()\n",
        "          optimizer.step()\n",
        "\n",
        "          # print statistics\n",
        "          running_loss += loss.item()\n",
        "          nbr_ref = int(( 5400 / (batch_size / 4) ))\n",
        "\n",
        "          if i % nbr_ref == nbr_ref - 1:    # print every XXX mini-batches\n",
        "              print('[%d, %5d] loss: %.3f' %\n",
        "                    (epoch + 1, i + 1, running_loss / nbr_ref ))\n",
        "              \n",
        "              temp.append(running_loss/nbr_ref)\n",
        "              running_loss = 0.0\n",
        "        loss_total.append(np.mean(temp))\n",
        "        \n",
        "        with torch.no_grad():\n",
        "          temp = []\n",
        "          for i, data in enumerate(valid, 0):\n",
        "            inputs, labels = data[0].to(DEVICE), data[1].to(DEVICE)\n",
        "\n",
        "            # forward + backward + optimize\n",
        "            outputs = self.forward(inputs)\n",
        "            loss_valid = criterion(outputs, labels)\n",
        "\n",
        "            # print statistics\n",
        "            valid_loss += loss_valid.item()\n",
        "            nbr_ref = int(( 600 / (batch_size / 4) ))\n",
        "            if i % nbr_ref == nbr_ref - 1:    # print every XXX mini-batches\n",
        "              print('[%d, %5d] valid loss: %.3f' %\n",
        "                    (epoch + 1, i + 1, valid_loss/nbr_ref))\n",
        "              \n",
        "              temp.append(valid_loss/nbr_ref)\n",
        "              valid_loss = 0.0\n",
        "          valid_loss_total.append(np.mean(temp))\n",
        "        \n",
        "        correct = 0\n",
        "        total = 0\n",
        "        with torch.no_grad():\n",
        "          for data in test :\n",
        "            inputs, labels = data[0].to(DEVICE), data[1].to(DEVICE)\n",
        "            outputs = self.forward(inputs)\n",
        "            _, predicted = torch.max(outputs.data, 1)\n",
        "            total += labels.size(0)\n",
        "            correct += (predicted == labels).sum().item()\n",
        "        \n",
        "        acc_total.append(100 * correct / total)\n",
        "      print('Finished Training')\n",
        "      return acc_total, loss_total, valid_loss_total\n",
        "\n",
        "\n",
        "\n",
        "    def test(self, test_set, batch_size):\n",
        "      test = data_loading(test_set, 0.1, batch_size, training=False)\n",
        "      correct = 0\n",
        "      total = 0\n",
        "      confusion_matrix = np.zeros([10,10], int)\n",
        "      with torch.no_grad():\n",
        "          for data in test :\n",
        "              inputs, labels = data[0].to(DEVICE), data[1].to(DEVICE)\n",
        "              outputs = self.forward(inputs)\n",
        "              _, predicted = torch.max(outputs.data, 1)\n",
        "              total += labels.size(0)\n",
        "              correct += (predicted == labels).sum().item()\n",
        "\n",
        "              for i, l in enumerate(labels):\n",
        "                  confusion_matrix[l.item(), predicted[i].item()] += 1 \n",
        "\n",
        "      acc_total = 100 * correct / total\n",
        "      print('Accuracy of the network on the 10000 test images: %d %%' % (\n",
        "          acc_total ))\n",
        "      \n",
        "      resultats = []\n",
        "      print('{0:10s} - {1}'.format('Category','Accuracy'))\n",
        "      for i, r in enumerate(confusion_matrix):\n",
        "          print('{0:10s} - {1:.1f}'.format(classes[i], r[i]/np.sum(r)*100))\n",
        "          resultats.append('{0:10s} - {1:.1f}'.format(classes[i], r[i]/np.sum(r)*100))\n",
        "\n",
        "      return acc_total, confusion_matrix, resultats"
      ],
      "execution_count": null,
      "outputs": []
    },
    {
      "cell_type": "code",
      "metadata": {
        "id": "WABoWkTnk-fF",
        "outputId": "5ecc6ccd-9b76-45a7-9ce0-693ad39473d6",
        "colab": {
          "base_uri": "https://localhost:8080/"
        }
      },
      "source": [
        "net = Net()\n",
        "PATH = './cifar_net_CLASSIC_10epochs.pth'\n",
        "net.load_state_dict(torch.load(PATH))\n",
        "net.to(DEVICE)"
      ],
      "execution_count": null,
      "outputs": [
        {
          "output_type": "execute_result",
          "data": {
            "text/plain": [
              "Net(\n",
              "  (conv1): Conv2d(3, 32, kernel_size=(3, 3), stride=(1, 1))\n",
              "  (conv2): Conv2d(32, 64, kernel_size=(3, 3), stride=(1, 1))\n",
              "  (conv3): Conv2d(64, 128, kernel_size=(3, 3), stride=(1, 1))\n",
              "  (pool): MaxPool2d(kernel_size=2, stride=2, padding=0, dilation=1, ceil_mode=False)\n",
              "  (fc1): Linear(in_features=512, out_features=128, bias=True)\n",
              "  (fc2): Linear(in_features=128, out_features=64, bias=True)\n",
              "  (fc3): Linear(in_features=64, out_features=32, bias=True)\n",
              "  (fc4): Linear(in_features=32, out_features=10, bias=True)\n",
              "  (dropout1): Dropout(p=0.2, inplace=False)\n",
              ")"
            ]
          },
          "metadata": {
            "tags": []
          },
          "execution_count": 9
        }
      ]
    },
    {
      "cell_type": "code",
      "metadata": {
        "id": "4rbJILwq3XcH",
        "outputId": "b9acc790-6565-49ac-c2d2-683a8bcf5bb5",
        "colab": {
          "base_uri": "https://localhost:8080/"
        }
      },
      "source": [
        "next(net.parameters()).is_cuda"
      ],
      "execution_count": null,
      "outputs": [
        {
          "output_type": "execute_result",
          "data": {
            "text/plain": [
              "True"
            ]
          },
          "metadata": {
            "tags": []
          },
          "execution_count": 10
        }
      ]
    },
    {
      "cell_type": "markdown",
      "metadata": {
        "id": "XdZR57_WfA_B"
      },
      "source": [
        "### L$oo$ - PGD attack and Robustness of the Classic CNN"
      ]
    },
    {
      "cell_type": "code",
      "metadata": {
        "id": "bObeYhDrWHVS"
      },
      "source": [
        "def distance_plot_delta(X_batch, X_att):\n",
        "  return torch.mean( torch.norm(X_att - X_batch, dim=1) )"
      ],
      "execution_count": null,
      "outputs": []
    },
    {
      "cell_type": "code",
      "metadata": {
        "id": "dnYDz-s97wke"
      },
      "source": [
        "def pgd_attack(model_cnn, device, X_batch, y_batch, loss_model, nb_it=7, eta=2 / 255, epsilon=8 / 255):\n",
        "    model_cnn.to(device)\n",
        "    epsilon, eta = epsilon / 0.5, eta / 0.5\n",
        "    delta = nn.Parameter(torch.zeros(X_batch.shape, requires_grad=True, device=device))\n",
        "    for it in range(nb_it):\n",
        "        loss = loss_model(model_cnn(X_batch + delta), y_batch)\n",
        "        loss.backward()\n",
        "        delta.data = (delta + eta * torch.sign(delta.grad.data)).clamp(-epsilon, epsilon)\n",
        "        delta.grad.zero_()\n",
        "    X_att = X_batch + delta\n",
        "    return X_att.detach()"
      ],
      "execution_count": null,
      "outputs": []
    },
    {
      "cell_type": "markdown",
      "metadata": {
        "id": "elZCVpBT76YC"
      },
      "source": [
        "### Defense : Adversarial training"
      ]
    },
    {
      "cell_type": "code",
      "metadata": {
        "id": "EVYIypuq4gJ4",
        "outputId": "652ab6c8-66c2-4e18-829a-03a2c7467a67",
        "colab": {
          "base_uri": "https://localhost:8080/"
        }
      },
      "source": [
        "# Training avec 100% de données attaquées et observations\n",
        "model = Net()\n",
        "model.to(DEVICE)"
      ],
      "execution_count": null,
      "outputs": [
        {
          "output_type": "execute_result",
          "data": {
            "text/plain": [
              "Net(\n",
              "  (conv1): Conv2d(3, 32, kernel_size=(3, 3), stride=(1, 1))\n",
              "  (conv2): Conv2d(32, 64, kernel_size=(3, 3), stride=(1, 1))\n",
              "  (conv3): Conv2d(64, 128, kernel_size=(3, 3), stride=(1, 1))\n",
              "  (pool): MaxPool2d(kernel_size=2, stride=2, padding=0, dilation=1, ceil_mode=False)\n",
              "  (fc1): Linear(in_features=512, out_features=128, bias=True)\n",
              "  (fc2): Linear(in_features=128, out_features=64, bias=True)\n",
              "  (fc3): Linear(in_features=64, out_features=32, bias=True)\n",
              "  (fc4): Linear(in_features=32, out_features=10, bias=True)\n",
              "  (dropout1): Dropout(p=0.2, inplace=False)\n",
              ")"
            ]
          },
          "metadata": {
            "tags": []
          },
          "execution_count": 17
        }
      ]
    },
    {
      "cell_type": "code",
      "metadata": {
        "id": "zkVPTeA4bgb8",
        "outputId": "9af003d5-2345-41cb-c33e-5a51fabd75d7",
        "colab": {
          "base_uri": "https://localhost:8080/"
        }
      },
      "source": [
        "accs = [[], []]\n",
        "optimizerr = optim.SGD(model.parameters(), lr=0.001, momentum=0.9)\n",
        "\n",
        "for epoch in tqdm(range(10)) :  # loop over the dataset multiple times\n",
        "\n",
        "  for i, data in enumerate(trainloader, 0):\n",
        "  # get the inputs; data is a list of [inputs, labels]\n",
        "    inputs, labels = data[0].to(DEVICE), data[1].to(DEVICE)\n",
        "    inputs_att = pgd_attack(net, DEVICE, inputs, labels, torch.nn.CrossEntropyLoss())\n",
        "\n",
        "    # zero the parameter gradients\n",
        "    optimizerr.zero_grad()\n",
        "    outputs_att = model(inputs_att)\n",
        "    loss_pgd = nn.CrossEntropyLoss()(outputs_att, labels)\n",
        "    loss_pgd.backward()\n",
        "    optimizerr.step()\n",
        "\n",
        "  correct = 0\n",
        "  total = 0\n",
        "  correct_att = 0\n",
        "\n",
        "  #with torch.no_grad():\n",
        "  for data in testloader :\n",
        "    inputs, labels = data[0].to(DEVICE), data[1].to(DEVICE)\n",
        "    inputs_att = pgd_attack(net, DEVICE, inputs, labels, torch.nn.CrossEntropyLoss())\n",
        "\n",
        "    outputs = model(inputs)\n",
        "    outputs_att = model(inputs_att)\n",
        "    _, predicted = torch.max(outputs.data, 1)\n",
        "    _, predicted_att = torch.max(outputs_att.data, 1)\n",
        "    total += labels.size(0)\n",
        "    correct += (predicted == labels).sum().item()\n",
        "    correct_att += (predicted_att == labels).sum().item()\n",
        "\n",
        "  accs[0].append(100 * correct / total)\n",
        "  print(\"Accuracy on clean images : \", 100 * correct / total)\n",
        "  accs[1].append(100 * correct_att / total)\n",
        "  print(\"Accuracy on clean images : \", 100 * correct_att / total)\n",
        "\n",
        "print('\\nFinished Training')"
      ],
      "execution_count": null,
      "outputs": [
        {
          "output_type": "stream",
          "text": [
            "\n",
            "  0%|          | 0/10 [00:00<?, ?it/s]\u001b[A\n",
            " 10%|█         | 1/10 [04:54<44:09, 294.41s/it]\u001b[A"
          ],
          "name": "stderr"
        },
        {
          "output_type": "stream",
          "text": [
            "Accuracy on clean images :  34.45\n",
            "Accuracy on clean images :  32.99\n"
          ],
          "name": "stdout"
        },
        {
          "output_type": "stream",
          "text": [
            "\n",
            " 20%|██        | 2/10 [09:44<39:05, 293.14s/it]\u001b[A"
          ],
          "name": "stderr"
        },
        {
          "output_type": "stream",
          "text": [
            "Accuracy on clean images :  44.79\n",
            "Accuracy on clean images :  42.07\n"
          ],
          "name": "stdout"
        },
        {
          "output_type": "stream",
          "text": [
            "\n",
            " 30%|███       | 3/10 [14:24<33:43, 289.14s/it]\u001b[A"
          ],
          "name": "stderr"
        },
        {
          "output_type": "stream",
          "text": [
            "Accuracy on clean images :  51.51\n",
            "Accuracy on clean images :  47.87\n"
          ],
          "name": "stdout"
        },
        {
          "output_type": "stream",
          "text": [
            "\n",
            " 40%|████      | 4/10 [19:01<28:33, 285.52s/it]\u001b[A"
          ],
          "name": "stderr"
        },
        {
          "output_type": "stream",
          "text": [
            "Accuracy on clean images :  52.21\n",
            "Accuracy on clean images :  51.09\n"
          ],
          "name": "stdout"
        },
        {
          "output_type": "stream",
          "text": [
            "\n",
            " 50%|█████     | 5/10 [23:44<23:43, 284.69s/it]\u001b[A"
          ],
          "name": "stderr"
        },
        {
          "output_type": "stream",
          "text": [
            "Accuracy on clean images :  53.1\n",
            "Accuracy on clean images :  57.58\n"
          ],
          "name": "stdout"
        },
        {
          "output_type": "stream",
          "text": [
            "\n",
            " 60%|██████    | 6/10 [28:16<18:43, 280.95s/it]\u001b[A"
          ],
          "name": "stderr"
        },
        {
          "output_type": "stream",
          "text": [
            "Accuracy on clean images :  51.07\n",
            "Accuracy on clean images :  60.25\n"
          ],
          "name": "stdout"
        },
        {
          "output_type": "stream",
          "text": [
            "\n",
            " 70%|███████   | 7/10 [32:47<13:53, 277.91s/it]\u001b[A"
          ],
          "name": "stderr"
        },
        {
          "output_type": "stream",
          "text": [
            "Accuracy on clean images :  51.21\n",
            "Accuracy on clean images :  64.84\n"
          ],
          "name": "stdout"
        },
        {
          "output_type": "stream",
          "text": [
            "\n",
            " 80%|████████  | 8/10 [37:16<09:10, 275.38s/it]\u001b[A"
          ],
          "name": "stderr"
        },
        {
          "output_type": "stream",
          "text": [
            "Accuracy on clean images :  51.22\n",
            "Accuracy on clean images :  64.2\n"
          ],
          "name": "stdout"
        },
        {
          "output_type": "stream",
          "text": [
            "\n",
            " 90%|█████████ | 9/10 [41:46<04:33, 273.76s/it]\u001b[A"
          ],
          "name": "stderr"
        },
        {
          "output_type": "stream",
          "text": [
            "Accuracy on clean images :  51.99\n",
            "Accuracy on clean images :  66.9\n"
          ],
          "name": "stdout"
        },
        {
          "output_type": "stream",
          "text": [
            "\n",
            "100%|██████████| 10/10 [46:16<00:00, 277.69s/it]"
          ],
          "name": "stderr"
        },
        {
          "output_type": "stream",
          "text": [
            "Accuracy on clean images :  53.96\n",
            "Accuracy on clean images :  65.94\n",
            "\n",
            "Finished Training\n"
          ],
          "name": "stdout"
        },
        {
          "output_type": "stream",
          "text": [
            "\n"
          ],
          "name": "stderr"
        }
      ]
    },
    {
      "cell_type": "code",
      "metadata": {
        "id": "63G4ptBHenXL",
        "outputId": "b23e457e-2189-4f4c-b4da-f1b63fd3d60f",
        "colab": {
          "base_uri": "https://localhost:8080/",
          "height": 279
        }
      },
      "source": [
        "plt.style.use('seaborn-deep')\n",
        "plt.plot(accs[0], label=\"Accuracy on clean images\")\n",
        "plt.plot(accs[1], label=\"Accuracy on PGD attacked images\")\n",
        "plt.legend()\n",
        "plt.xlabel(\"Epochs\")\n",
        "plt.ylabel(\"Accuracy (%)\")\n",
        "plt.savefig(\"AdvTRAIN_accuracies_clean_att.png\", dpi=1000)\n",
        "plt.show()"
      ],
      "execution_count": null,
      "outputs": [
        {
          "output_type": "display_data",
          "data": {
            "image/png": "[encoded data removed]",
            "text/plain": [
              "<Figure size 432x288 with 1 Axes>"
            ]
          },
          "metadata": {
            "tags": [],
            "needs_background": "light"
          }
        }
      ]
    },
    {
      "cell_type": "code",
      "metadata": {
        "id": "yHkHXsHysU6k",
        "outputId": "d661e95d-0d9c-4dc0-dff9-f1a93bfe8021",
        "colab": {
          "base_uri": "https://localhost:8080/"
        }
      },
      "source": [
        "accu, confu_m, results = model.test(testset, 64)"
      ],
      "execution_count": null,
      "outputs": [
        {
          "output_type": "stream",
          "text": [
            "Loading of the Test set !\n",
            "Accuracy of the network on the 10000 test images: 53 %\n",
            "Category   - Accuracy\n",
            "plane      - 68.8\n",
            "car        - 66.7\n",
            "bird       - 49.4\n",
            "cat        - 47.0\n",
            "deer       - 30.2\n",
            "dog        - 48.7\n",
            "frog       - 60.0\n",
            "horse      - 59.0\n",
            "ship       - 51.2\n",
            "truck      - 56.9\n"
          ],
          "name": "stdout"
        }
      ]
    },
    {
      "cell_type": "code",
      "metadata": {
        "id": "BBwvaEwd9ATt",
        "outputId": "61a6f58f-56f3-4f35-d95a-47cf00873cc1",
        "colab": {
          "base_uri": "https://localhost:8080/",
          "height": 388
        }
      },
      "source": [
        "fig, ax = plt.subplots(1,1,figsize=(8,6))\n",
        "ax.matshow(confu_m, aspect='auto', vmin=0, vmax=1000, cmap=plt.get_cmap('Blues'))\n",
        "plt.ylabel('Actual Category')\n",
        "plt.yticks(range(10), classes)\n",
        "plt.xlabel('Predicted Category')\n",
        "plt.xticks(range(10), classes)\n",
        "plt.savefig(\"Confusion_matrix\")\n",
        "plt.show()"
      ],
      "execution_count": null,
      "outputs": [
        {
          "output_type": "display_data",
          "data": {
            "image/png": "[encoded data removed]",
            "text/plain": [
              "<Figure size 576x432 with 1 Axes>"
            ]
          },
          "metadata": {
            "tags": [],
            "needs_background": "light"
          }
        }
      ]
    },
    {
      "cell_type": "code",
      "metadata": {
        "id": "Uyd0VIq0_Fls"
      },
      "source": [
        "PATH = './cifar_net_AdvTRAIN_10epochs.pth'"
      ],
      "execution_count": null,
      "outputs": []
    },
    {
      "cell_type": "code",
      "metadata": {
        "id": "bdpOVVd7_JAN"
      },
      "source": [
        "torch.save(model.state_dict(), PATH)"
      ],
      "execution_count": null,
      "outputs": []
    },
    {
      "cell_type": "code",
      "metadata": {
        "id": "lPZj7oiV_PAo",
        "outputId": "90cc3619-b405-443e-e990-b29c65714e02",
        "colab": {
          "base_uri": "https://localhost:8080/"
        }
      },
      "source": [
        "a, b, c = net.test(testset, 64)"
      ],
      "execution_count": null,
      "outputs": [
        {
          "output_type": "stream",
          "text": [
            "Loading of the Test set !\n",
            "Accuracy of the network on the 10000 test images: 68 %\n",
            "Category   - Accuracy\n",
            "plane      - 77.5\n",
            "car        - 87.6\n",
            "bird       - 41.6\n",
            "cat        - 54.3\n",
            "deer       - 66.6\n",
            "dog        - 65.4\n",
            "frog       - 73.3\n",
            "horse      - 70.7\n",
            "ship       - 72.9\n",
            "truck      - 77.6\n"
          ],
          "name": "stdout"
        }
      ]
    },
    {
      "cell_type": "code",
      "metadata": {
        "id": "C1BmlatS_jSf"
      },
      "source": [
        ""
      ],
      "execution_count": null,
      "outputs": []
    }
  ]
}