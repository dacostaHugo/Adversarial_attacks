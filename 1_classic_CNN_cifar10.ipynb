{
  "nbformat": 4,
  "nbformat_minor": 0,
  "metadata": {
    "colab": {
      "name": "1_classic_CNN_cifar10.ipynb",
      "provenance": [],
      "collapsed_sections": [],
      "toc_visible": true
    },
    "kernelspec": {
      "name": "python3",
      "display_name": "Python 3"
    },
    "accelerator": "GPU",
    "widgets": {
      "application/vnd.jupyter.widget-state+json": {
        "2803ca368db6435fb5755f15f34568b0": {
          "model_module": "@jupyter-widgets/controls",
          "model_name": "HBoxModel",
          "state": {
            "_view_name": "HBoxView",
            "_dom_classes": [],
            "_model_name": "HBoxModel",
            "_view_module": "@jupyter-widgets/controls",
            "_model_module_version": "1.5.0",
            "_view_count": null,
            "_view_module_version": "1.5.0",
            "box_style": "",
            "layout": "IPY_MODEL_94aabfa425594faca992ee4c03088068",
            "_model_module": "@jupyter-widgets/controls",
            "children": [
              "IPY_MODEL_1a679523337647a3a676794a582e1c1b",
              "IPY_MODEL_d6bbe4ced9a74bd8b951ac5cc43f0da7"
            ]
          }
        },
        "94aabfa425594faca992ee4c03088068": {
          "model_module": "@jupyter-widgets/base",
          "model_name": "LayoutModel",
          "state": {
            "_view_name": "LayoutView",
            "grid_template_rows": null,
            "right": null,
            "justify_content": null,
            "_view_module": "@jupyter-widgets/base",
            "overflow": null,
            "_model_module_version": "1.2.0",
            "_view_count": null,
            "flex_flow": null,
            "width": null,
            "min_width": null,
            "border": null,
            "align_items": null,
            "bottom": null,
            "_model_module": "@jupyter-widgets/base",
            "top": null,
            "grid_column": null,
            "overflow_y": null,
            "overflow_x": null,
            "grid_auto_flow": null,
            "grid_area": null,
            "grid_template_columns": null,
            "flex": null,
            "_model_name": "LayoutModel",
            "justify_items": null,
            "grid_row": null,
            "max_height": null,
            "align_content": null,
            "visibility": null,
            "align_self": null,
            "height": null,
            "min_height": null,
            "padding": null,
            "grid_auto_rows": null,
            "grid_gap": null,
            "max_width": null,
            "order": null,
            "_view_module_version": "1.2.0",
            "grid_template_areas": null,
            "object_position": null,
            "object_fit": null,
            "grid_auto_columns": null,
            "margin": null,
            "display": null,
            "left": null
          }
        },
        "1a679523337647a3a676794a582e1c1b": {
          "model_module": "@jupyter-widgets/controls",
          "model_name": "FloatProgressModel",
          "state": {
            "_view_name": "ProgressView",
            "style": "IPY_MODEL_6d29d4cc71304898bf6269198a5cb467",
            "_dom_classes": [],
            "description": "",
            "_model_name": "FloatProgressModel",
            "bar_style": "success",
            "max": 1,
            "_view_module": "@jupyter-widgets/controls",
            "_model_module_version": "1.5.0",
            "value": 1,
            "_view_count": null,
            "_view_module_version": "1.5.0",
            "orientation": "horizontal",
            "min": 0,
            "description_tooltip": null,
            "_model_module": "@jupyter-widgets/controls",
            "layout": "IPY_MODEL_cc8564806eb94cf1be474a8daf943fe1"
          }
        },
        "d6bbe4ced9a74bd8b951ac5cc43f0da7": {
          "model_module": "@jupyter-widgets/controls",
          "model_name": "HTMLModel",
          "state": {
            "_view_name": "HTMLView",
            "style": "IPY_MODEL_18446dc2a2b04237a804ac6f53a4e724",
            "_dom_classes": [],
            "description": "",
            "_model_name": "HTMLModel",
            "placeholder": "​",
            "_view_module": "@jupyter-widgets/controls",
            "_model_module_version": "1.5.0",
            "value": " 170500096/? [00:06&lt;00:00, 26653831.71it/s]",
            "_view_count": null,
            "_view_module_version": "1.5.0",
            "description_tooltip": null,
            "_model_module": "@jupyter-widgets/controls",
            "layout": "IPY_MODEL_3e097c8004a14fd19de7a7e57a2bbe87"
          }
        },
        "6d29d4cc71304898bf6269198a5cb467": {
          "model_module": "@jupyter-widgets/controls",
          "model_name": "ProgressStyleModel",
          "state": {
            "_view_name": "StyleView",
            "_model_name": "ProgressStyleModel",
            "description_width": "initial",
            "_view_module": "@jupyter-widgets/base",
            "_model_module_version": "1.5.0",
            "_view_count": null,
            "_view_module_version": "1.2.0",
            "bar_color": null,
            "_model_module": "@jupyter-widgets/controls"
          }
        },
        "cc8564806eb94cf1be474a8daf943fe1": {
          "model_module": "@jupyter-widgets/base",
          "model_name": "LayoutModel",
          "state": {
            "_view_name": "LayoutView",
            "grid_template_rows": null,
            "right": null,
            "justify_content": null,
            "_view_module": "@jupyter-widgets/base",
            "overflow": null,
            "_model_module_version": "1.2.0",
            "_view_count": null,
            "flex_flow": null,
            "width": null,
            "min_width": null,
            "border": null,
            "align_items": null,
            "bottom": null,
            "_model_module": "@jupyter-widgets/base",
            "top": null,
            "grid_column": null,
            "overflow_y": null,
            "overflow_x": null,
            "grid_auto_flow": null,
            "grid_area": null,
            "grid_template_columns": null,
            "flex": null,
            "_model_name": "LayoutModel",
            "justify_items": null,
            "grid_row": null,
            "max_height": null,
            "align_content": null,
            "visibility": null,
            "align_self": null,
            "height": null,
            "min_height": null,
            "padding": null,
            "grid_auto_rows": null,
            "grid_gap": null,
            "max_width": null,
            "order": null,
            "_view_module_version": "1.2.0",
            "grid_template_areas": null,
            "object_position": null,
            "object_fit": null,
            "grid_auto_columns": null,
            "margin": null,
            "display": null,
            "left": null
          }
        },
        "18446dc2a2b04237a804ac6f53a4e724": {
          "model_module": "@jupyter-widgets/controls",
          "model_name": "DescriptionStyleModel",
          "state": {
            "_view_name": "StyleView",
            "_model_name": "DescriptionStyleModel",
            "description_width": "",
            "_view_module": "@jupyter-widgets/base",
            "_model_module_version": "1.5.0",
            "_view_count": null,
            "_view_module_version": "1.2.0",
            "_model_module": "@jupyter-widgets/controls"
          }
        },
        "3e097c8004a14fd19de7a7e57a2bbe87": {
          "model_module": "@jupyter-widgets/base",
          "model_name": "LayoutModel",
          "state": {
            "_view_name": "LayoutView",
            "grid_template_rows": null,
            "right": null,
            "justify_content": null,
            "_view_module": "@jupyter-widgets/base",
            "overflow": null,
            "_model_module_version": "1.2.0",
            "_view_count": null,
            "flex_flow": null,
            "width": null,
            "min_width": null,
            "border": null,
            "align_items": null,
            "bottom": null,
            "_model_module": "@jupyter-widgets/base",
            "top": null,
            "grid_column": null,
            "overflow_y": null,
            "overflow_x": null,
            "grid_auto_flow": null,
            "grid_area": null,
            "grid_template_columns": null,
            "flex": null,
            "_model_name": "LayoutModel",
            "justify_items": null,
            "grid_row": null,
            "max_height": null,
            "align_content": null,
            "visibility": null,
            "align_self": null,
            "height": null,
            "min_height": null,
            "padding": null,
            "grid_auto_rows": null,
            "grid_gap": null,
            "max_width": null,
            "order": null,
            "_view_module_version": "1.2.0",
            "grid_template_areas": null,
            "object_position": null,
            "object_fit": null,
            "grid_auto_columns": null,
            "margin": null,
            "display": null,
            "left": null
          }
        }
      }
    }
  },
  "cells": [
    {
      "cell_type": "markdown",
      "metadata": {
        "id": "YXzbxtmdnM9m"
      },
      "source": [
        "# Project of Machine Learning : Adversarial attacks"
      ]
    },
    {
      "cell_type": "markdown",
      "metadata": {
        "id": "jg0iIjJzfFbS"
      },
      "source": [
        "### Classic CNN over Cfar10 dataset"
      ]
    },
    {
      "cell_type": "markdown",
      "metadata": {
        "id": "KvuRlsL84AxK"
      },
      "source": [
        "#### Loading data and Normalizing"
      ]
    },
    {
      "cell_type": "code",
      "metadata": {
        "id": "SpC3m-Hp3yun"
      },
      "source": [
        "import torch\n",
        "import torchvision\n",
        "from torchvision import datasets, transforms\n",
        "from torch.utils.data.sampler import SubsetRandomSampler\n",
        "from torch.utils.data import Subset\n",
        "import torch.nn as nn\n",
        "import torch.nn.functional as F\n",
        "\n",
        "import numpy as np\n",
        "import matplotlib.pyplot as plt"
      ],
      "execution_count": null,
      "outputs": []
    },
    {
      "cell_type": "code",
      "metadata": {
        "id": "nLsk8CHJdKYR"
      },
      "source": [
        "from sklearn.metrics import confusion_matrix\n",
        "from sklearn.model_selection import train_test_split\n",
        "import pandas as pd\n",
        "import torch.optim as optim"
      ],
      "execution_count": null,
      "outputs": []
    },
    {
      "cell_type": "code",
      "metadata": {
        "id": "EkcUzf4s67V_",
        "outputId": "8ad12a24-8cdf-45b3-ded1-e98df1d078cf",
        "colab": {
          "base_uri": "https://localhost:8080/"
        }
      },
      "source": [
        "DEVICE = torch.device(\"cuda\" if torch.cuda.is_available() else \"cpu\")\n",
        "DEVICE"
      ],
      "execution_count": null,
      "outputs": [
        {
          "output_type": "execute_result",
          "data": {
            "text/plain": [
              "device(type='cuda')"
            ]
          },
          "metadata": {
            "tags": []
          },
          "execution_count": 3
        }
      ]
    },
    {
      "cell_type": "code",
      "metadata": {
        "id": "L1r33YVM4Fzr",
        "outputId": "4657e33a-a3b9-4657-918a-e9520f165fcd",
        "colab": {
          "base_uri": "https://localhost:8080/",
          "height": 100,
          "referenced_widgets": [
            "2803ca368db6435fb5755f15f34568b0",
            "94aabfa425594faca992ee4c03088068",
            "1a679523337647a3a676794a582e1c1b",
            "d6bbe4ced9a74bd8b951ac5cc43f0da7",
            "6d29d4cc71304898bf6269198a5cb467",
            "cc8564806eb94cf1be474a8daf943fe1",
            "18446dc2a2b04237a804ac6f53a4e724",
            "3e097c8004a14fd19de7a7e57a2bbe87"
          ]
        }
      },
      "source": [
        "transform = transforms.Compose(\n",
        "    [transforms.ToTensor(),\n",
        "     transforms.Normalize((0.5, 0.5, 0.5), (0.5, 0.5, 0.5))])\n",
        "\n",
        "trainset = torchvision.datasets.CIFAR10(root='./data', train=True,\n",
        "                                        download=True, transform=transform)\n",
        "\n",
        "trainloader = torch.utils.data.DataLoader(trainset, batch_size=4,\n",
        "                                          shuffle=True, num_workers=2)\n",
        "\n",
        "testset = torchvision.datasets.CIFAR10(root='./data', train=False,\n",
        "                                       download=True, transform=transform)\n",
        "\n",
        "testloader = torch.utils.data.DataLoader(testset, batch_size=4,\n",
        "                                         shuffle=False, num_workers=2)\n",
        "\n",
        "classes = ('plane', 'car', 'bird', 'cat',\n",
        "           'deer', 'dog', 'frog', 'horse', 'ship', 'truck')"
      ],
      "execution_count": null,
      "outputs": [
        {
          "output_type": "stream",
          "text": [
            "Downloading https://www.cs.toronto.edu/~kriz/cifar-10-python.tar.gz to ./data/cifar-10-python.tar.gz\n"
          ],
          "name": "stdout"
        },
        {
          "output_type": "display_data",
          "data": {
            "application/vnd.jupyter.widget-view+json": {
              "model_id": "2803ca368db6435fb5755f15f34568b0",
              "version_minor": 0,
              "version_major": 2
            },
            "text/plain": [
              "HBox(children=(FloatProgress(value=1.0, bar_style='info', max=1.0), HTML(value='')))"
            ]
          },
          "metadata": {
            "tags": []
          }
        },
        {
          "output_type": "stream",
          "text": [
            "Extracting ./data/cifar-10-python.tar.gz to ./data\n",
            "Files already downloaded and verified\n"
          ],
          "name": "stdout"
        }
      ]
    },
    {
      "cell_type": "code",
      "metadata": {
        "id": "z2SuEHgm0rM8",
        "outputId": "de108fa8-2863-4e7e-f2c9-4d68b0ea80f0",
        "colab": {
          "base_uri": "https://localhost:8080/",
          "height": 189
        }
      },
      "source": [
        "# functions to show an image\n",
        "\n",
        "def imshow(img):\n",
        "    img = img / 2 + 0.5     # unnormalize\n",
        "    npimg = img.numpy()\n",
        "    plt.imshow(np.transpose(npimg, (1, 2, 0)))\n",
        "    plt.show()\n",
        "\n",
        "\n",
        "# get some random training images\n",
        "dataiter = iter(trainloader)\n",
        "images, labels = dataiter.next()\n",
        "\n",
        "# show images\n",
        "imshow(torchvision.utils.make_grid(images))\n",
        "# print labels\n",
        "print(' '.join('%5s' % classes[labels[j]] for j in range(4)))"
      ],
      "execution_count": null,
      "outputs": [
        {
          "output_type": "stream",
          "text": [
            "\n",
            "\n"
          ],
          "name": "stdout"
        },
        {
          "output_type": "display_data",
          "data": {
            "image/png": "[encoded data removed]",
            "text/plain": [
              "<Figure size 432x288 with 1 Axes>"
            ]
          },
          "metadata": {
            "tags": [],
            "needs_background": "light"
          }
        },
        {
          "output_type": "stream",
          "text": [
            "  car   cat  ship   cat\n"
          ],
          "name": "stdout"
        }
      ]
    },
    {
      "cell_type": "markdown",
      "metadata": {
        "id": "8DE_rYa89tGQ"
      },
      "source": [
        "#### Clean definition of all the iterator over Data"
      ]
    },
    {
      "cell_type": "code",
      "metadata": {
        "id": "ZzPvcfJIcp5D"
      },
      "source": [
        "def train_val_dataset(dataset, val_split=0.1):\n",
        "    train_idx, val_idx = train_test_split(list(range(len(dataset))), test_size=val_split)\n",
        "    datasets = {}\n",
        "    datasets['train'] = Subset(dataset, train_idx)\n",
        "    datasets['val'] = Subset(dataset, val_idx)\n",
        "    return datasets\n",
        "\n",
        "\n",
        "def data_loading(set_data, repartition_train_valid, b_size, training=False):\n",
        "  if training :\n",
        "    print(\"Loading of Training and Validation sets !\")\n",
        "    datasets = train_val_dataset(set_data, repartition_train_valid)\n",
        "    dataloaders = {x : torch.utils.data.DataLoader(datasets[x], batch_size=b_size, shuffle=True, num_workers=2) for x in ['train','val']}\n",
        "    trainloader = dataloaders['train']\n",
        "    validloader = dataloaders['val']\n",
        "    return trainloader, validloader\n",
        "  \n",
        "  else :\n",
        "    print(\"Loading of the Test set !\")\n",
        "    testloader = torch.utils.data.DataLoader(set_data, batch_size=b_size,\n",
        "                                              shuffle=True, num_workers=2)\n",
        "    return testloader"
      ],
      "execution_count": null,
      "outputs": []
    },
    {
      "cell_type": "markdown",
      "metadata": {
        "id": "F8esB5xg46zZ"
      },
      "source": [
        "#### Class of our CNN"
      ]
    },
    {
      "cell_type": "code",
      "metadata": {
        "id": "8Wd6PxCpGI0p"
      },
      "source": [
        "class Net(nn.Module): \n",
        "    def __init__(self):\n",
        "        super(Net, self).__init__()\n",
        "        self.conv1 = nn.Conv2d(3, 32, 3)\n",
        "        self.conv2 = nn.Conv2d(32, 64, 3)\n",
        "        self.conv3 = nn.Conv2d(64, 128, 3)\n",
        "        self.pool = nn.MaxPool2d(2, 2)\n",
        "        self.fc1 = nn.Linear(128 * 2 * 2, 128)\n",
        "        self.fc2 = nn.Linear(128, 64)\n",
        "        self.fc3 = nn.Linear(64, 32)\n",
        "        self.fc4 = nn.Linear(32, 10)\n",
        "        self.dropout1 = nn.Dropout(p=0.2, inplace=False)\n",
        "\n",
        "    def forward(self, x):\n",
        "        x = self.pool(F.relu(self.conv1(x)))\n",
        "        x = self.dropout1(x)\n",
        "        x = self.pool(F.relu(self.conv2(x)))\n",
        "        x = self.dropout1(x)\n",
        "        x = self.pool(F.relu(self.conv3(x)))\n",
        "        x = self.dropout1(x)\n",
        "        x = x.view(-1, 128 * 2 * 2)\n",
        "        x = F.relu(self.fc1(x))\n",
        "        x = F.relu(self.fc2(x))\n",
        "        x = F.relu(self.fc3(x))\n",
        "        x = self.fc4(x)\n",
        "        return x\n",
        "      \n",
        "\n",
        "    def fit(self, train_set, test_set, batch_size, nb_epochs, criterion, learning_r):\n",
        "      train, valid = data_loading(train_set, 0.1, batch_size, training=True)\n",
        "      test = data_loading(test_set, 0.1, batch_size, training=False)\n",
        "      optimizer = optim.SGD(self.parameters(), lr=learning_r, momentum=0.9)\n",
        "      \n",
        "      loss_total = []\n",
        "      valid_loss_total = []\n",
        "      acc_total = []\n",
        "\n",
        "      for epoch in range(nb_epochs):  # loop over the dataset multiple times\n",
        "        running_loss = 0.0\n",
        "        valid_loss = 0.0\n",
        "        temp = []\n",
        "        for i, data in enumerate(train, 0):\n",
        "          # get the inputs; data is a list of [inputs, labels]\n",
        "          inputs, labels = data[0].to(DEVICE), data[1].to(DEVICE)\n",
        "\n",
        "          # zero the parameter gradients\n",
        "          optimizer.zero_grad()\n",
        "\n",
        "          # forward + backward + optimize\n",
        "          outputs = self.forward(inputs)\n",
        "          loss = criterion(outputs, labels)\n",
        "          loss.backward()\n",
        "          optimizer.step()\n",
        "\n",
        "          # print statistics\n",
        "          running_loss += loss.item()\n",
        "          nbr_ref = int(( 5400 / (batch_size / 4) ))\n",
        "\n",
        "          if i % nbr_ref == nbr_ref - 1:    # print every XXX mini-batches\n",
        "              print('[%d, %5d] loss: %.3f' %\n",
        "                    (epoch + 1, i + 1, running_loss / nbr_ref ))\n",
        "              \n",
        "              temp.append(running_loss/nbr_ref)\n",
        "              running_loss = 0.0\n",
        "        loss_total.append(np.mean(temp))\n",
        "        \n",
        "        with torch.no_grad():\n",
        "          temp = []\n",
        "          for i, data in enumerate(valid, 0):\n",
        "            inputs, labels = data[0].to(DEVICE), data[1].to(DEVICE)\n",
        "\n",
        "            # forward + backward + optimize\n",
        "            outputs = self.forward(inputs)\n",
        "            loss_valid = criterion(outputs, labels)\n",
        "\n",
        "            # print statistics\n",
        "            valid_loss += loss_valid.item()\n",
        "            nbr_ref = int(( 600 / (batch_size / 4) ))\n",
        "            if i % nbr_ref == nbr_ref - 1:    # print every XXX mini-batches\n",
        "              print('[%d, %5d] valid loss: %.3f' %\n",
        "                    (epoch + 1, i + 1, valid_loss/nbr_ref))\n",
        "              \n",
        "              temp.append(valid_loss/nbr_ref)\n",
        "              valid_loss = 0.0\n",
        "          valid_loss_total.append(np.mean(temp))\n",
        "        \n",
        "        correct = 0\n",
        "        total = 0\n",
        "        with torch.no_grad():\n",
        "          for data in test :\n",
        "            inputs, labels = data[0].to(DEVICE), data[1].to(DEVICE)\n",
        "            outputs = self.forward(inputs)\n",
        "            _, predicted = torch.max(outputs.data, 1)\n",
        "            total += labels.size(0)\n",
        "            correct += (predicted == labels).sum().item()\n",
        "        \n",
        "        acc_total.append(100 * correct / total)\n",
        "      print('Finished Training')\n",
        "      return acc_total, loss_total, valid_loss_total\n",
        "\n",
        "\n",
        "\n",
        "    def test(self, test_set, batch_size):\n",
        "      test = data_loading(test_set, 0.1, batch_size, training=False)\n",
        "      correct = 0\n",
        "      total = 0\n",
        "      confusion_matrix = np.zeros([10,10], int)\n",
        "      with torch.no_grad():\n",
        "          for data in test :\n",
        "              inputs, labels = data[0].to(DEVICE), data[1].to(DEVICE)\n",
        "              outputs = self.forward(inputs)\n",
        "              _, predicted = torch.max(outputs.data, 1)\n",
        "              total += labels.size(0)\n",
        "              correct += (predicted == labels).sum().item()\n",
        "\n",
        "              for i, l in enumerate(labels):\n",
        "                  confusion_matrix[l.item(), predicted[i].item()] += 1 \n",
        "\n",
        "      acc_total = 100 * correct / total\n",
        "      print('Accuracy of the network on the 10000 test images: %d %%' % (\n",
        "          acc_total ))\n",
        "      \n",
        "      resultats = []\n",
        "      print('{0:10s} - {1}'.format('Category','Accuracy'))\n",
        "      for i, r in enumerate(confusion_matrix):\n",
        "          print('{0:10s} - {1:.1f}'.format(classes[i], r[i]/np.sum(r)*100))\n",
        "          resultats.append('{0:10s} - {1:.1f}'.format(classes[i], r[i]/np.sum(r)*100))\n",
        "\n",
        "      return acc_total, confusion_matrix, resultats"
      ],
      "execution_count": null,
      "outputs": []
    },
    {
      "cell_type": "markdown",
      "metadata": {
        "id": "F1IrNpaM45OC"
      },
      "source": [
        "#### Hyperparameters of the CNN"
      ]
    },
    {
      "cell_type": "code",
      "metadata": {
        "id": "fXh8FcZVMnJ5",
        "outputId": "b86d574f-366c-40d2-c79f-c78a1748eb8c",
        "colab": {
          "base_uri": "https://localhost:8080/"
        }
      },
      "source": [
        "net = Net()\n",
        "net.to(DEVICE)"
      ],
      "execution_count": null,
      "outputs": [
        {
          "output_type": "execute_result",
          "data": {
            "text/plain": [
              "Net(\n",
              "  (conv1): Conv2d(3, 32, kernel_size=(3, 3), stride=(1, 1))\n",
              "  (conv2): Conv2d(32, 64, kernel_size=(3, 3), stride=(1, 1))\n",
              "  (conv3): Conv2d(64, 128, kernel_size=(3, 3), stride=(1, 1))\n",
              "  (pool): MaxPool2d(kernel_size=2, stride=2, padding=0, dilation=1, ceil_mode=False)\n",
              "  (fc1): Linear(in_features=512, out_features=128, bias=True)\n",
              "  (fc2): Linear(in_features=128, out_features=64, bias=True)\n",
              "  (fc3): Linear(in_features=64, out_features=32, bias=True)\n",
              "  (fc4): Linear(in_features=32, out_features=10, bias=True)\n",
              "  (dropout1): Dropout(p=0.2, inplace=False)\n",
              ")"
            ]
          },
          "metadata": {
            "tags": []
          },
          "execution_count": 8
        }
      ]
    },
    {
      "cell_type": "code",
      "metadata": {
        "id": "sLa1a3of_vps"
      },
      "source": [
        "accuracy, loss, validation_loss = net.fit(trainset, testset, 4, 10, nn.CrossEntropyLoss(), 0.001)"
      ],
      "execution_count": null,
      "outputs": []
    },
    {
      "cell_type": "markdown",
      "metadata": {
        "id": "QJqLzUR8X-8w"
      },
      "source": [
        "#### Training of our CNN over cifar10"
      ]
    },
    {
      "cell_type": "code",
      "metadata": {
        "id": "eybl0OFvxADH"
      },
      "source": [
        "plt.plot(loss, color='b', label=\"Training loss\")\n",
        "plt.plot(validation_loss, color='r', label=\"validation loss\")\n",
        "plt.legend()\n",
        "plt.xlabel(\"Epoch id\")\n",
        "plt.ylabel(\"Loss value\")\n",
        "plt.savefig(\"Loss_Validloss\")\n",
        "plt.show()"
      ],
      "execution_count": null,
      "outputs": []
    },
    {
      "cell_type": "code",
      "metadata": {
        "id": "OsYLGF8dN1x0"
      },
      "source": [
        "plt.plot(accuracy, color='orange', label=\"Current accuracy\")\n",
        "plt.legend()\n",
        "plt.xlabel(\"Epoch id\")\n",
        "plt.ylabel(\"Accuracy value\")\n",
        "plt.savefig(\"Accuracy\", dpi=)\n",
        "plt.show()"
      ],
      "execution_count": null,
      "outputs": []
    },
    {
      "cell_type": "markdown",
      "metadata": {
        "id": "KVPNKuI8YE9f"
      },
      "source": [
        "#### Testing and saving this model"
      ]
    },
    {
      "cell_type": "code",
      "metadata": {
        "id": "et6wfGCAlELU"
      },
      "source": [
        "accu, confu_m, results = net.test(testset, 4)"
      ],
      "execution_count": null,
      "outputs": []
    },
    {
      "cell_type": "code",
      "metadata": {
        "id": "tVMV5TphbkWG"
      },
      "source": [
        "fig, ax = plt.subplots(1,1,figsize=(8,6))\n",
        "ax.matshow(confu_m, aspect='auto', vmin=0, vmax=1000, cmap=plt.get_cmap('Blues'))\n",
        "plt.ylabel('Actual Category')\n",
        "plt.yticks(range(10), classes)\n",
        "plt.xlabel('Predicted Category')\n",
        "plt.xticks(range(10), classes)\n",
        "plt.savefig(\"Confusion_matrix\")\n",
        "plt.show()"
      ],
      "execution_count": null,
      "outputs": []
    },
    {
      "cell_type": "code",
      "metadata": {
        "id": "KZ8h5joQ5HnH"
      },
      "source": [
        "PATH = './cifar_net_CLASSIC_20epochs.pth'"
      ],
      "execution_count": null,
      "outputs": []
    },
    {
      "cell_type": "code",
      "metadata": {
        "id": "B_5EwRUg3fZl"
      },
      "source": [
        "torch.save(net.state_dict(), PATH)"
      ],
      "execution_count": null,
      "outputs": []
    },
    {
      "cell_type": "code",
      "metadata": {
        "id": "HeJTrB-2lWlC"
      },
      "source": [
        ""
      ],
      "execution_count": null,
      "outputs": []
    }
  ]
}