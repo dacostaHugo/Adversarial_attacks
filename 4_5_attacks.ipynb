{
  "nbformat": 4,
  "nbformat_minor": 0,
  "metadata": {
    "accelerator": "GPU",
    "colab": {
      "name": "5_attacks.ipynb",
      "provenance": [],
      "collapsed_sections": [
        "JWy8jWjpRtM9"
      ],
      "toc_visible": true
    },
    "environment": {
      "name": "pytorch-gpu.1-4.m58",
      "type": "gcloud",
      "uri": "gcr.io/deeplearning-platform-release/pytorch-gpu.1-4:m58"
    },
    "kernelspec": {
      "display_name": "Python 3",
      "language": "python",
      "name": "python3"
    },
    "language_info": {
      "codemirror_mode": {
        "name": "ipython",
        "version": 3
      },
      "file_extension": ".py",
      "mimetype": "text/x-python",
      "name": "python",
      "nbconvert_exporter": "python",
      "pygments_lexer": "ipython3",
      "version": "3.7.8"
    },
    "widgets": {
      "application/vnd.jupyter.widget-state+json": {
        "c7ab562d7d4d42e0a1b00e5ad1edfd21": {
          "model_module": "@jupyter-widgets/controls",
          "model_name": "HBoxModel",
          "state": {
            "_view_name": "HBoxView",
            "_dom_classes": [],
            "_model_name": "HBoxModel",
            "_view_module": "@jupyter-widgets/controls",
            "_model_module_version": "1.5.0",
            "_view_count": null,
            "_view_module_version": "1.5.0",
            "box_style": "",
            "layout": "IPY_MODEL_16a161f7898a454494bdd77bcf7984fa",
            "_model_module": "@jupyter-widgets/controls",
            "children": [
              "IPY_MODEL_b8c724b6e2e644cdb5be534b54b84a0e",
              "IPY_MODEL_10384c74a57c4394b64a6fa8598de9b1"
            ]
          }
        },
        "16a161f7898a454494bdd77bcf7984fa": {
          "model_module": "@jupyter-widgets/base",
          "model_name": "LayoutModel",
          "state": {
            "_view_name": "LayoutView",
            "grid_template_rows": null,
            "right": null,
            "justify_content": null,
            "_view_module": "@jupyter-widgets/base",
            "overflow": null,
            "_model_module_version": "1.2.0",
            "_view_count": null,
            "flex_flow": null,
            "width": null,
            "min_width": null,
            "border": null,
            "align_items": null,
            "bottom": null,
            "_model_module": "@jupyter-widgets/base",
            "top": null,
            "grid_column": null,
            "overflow_y": null,
            "overflow_x": null,
            "grid_auto_flow": null,
            "grid_area": null,
            "grid_template_columns": null,
            "flex": null,
            "_model_name": "LayoutModel",
            "justify_items": null,
            "grid_row": null,
            "max_height": null,
            "align_content": null,
            "visibility": null,
            "align_self": null,
            "height": null,
            "min_height": null,
            "padding": null,
            "grid_auto_rows": null,
            "grid_gap": null,
            "max_width": null,
            "order": null,
            "_view_module_version": "1.2.0",
            "grid_template_areas": null,
            "object_position": null,
            "object_fit": null,
            "grid_auto_columns": null,
            "margin": null,
            "display": null,
            "left": null
          }
        },
        "b8c724b6e2e644cdb5be534b54b84a0e": {
          "model_module": "@jupyter-widgets/controls",
          "model_name": "FloatProgressModel",
          "state": {
            "_view_name": "ProgressView",
            "style": "IPY_MODEL_ca8f9a8e5556491c902d8e5b43a98e65",
            "_dom_classes": [],
            "description": "",
            "_model_name": "FloatProgressModel",
            "bar_style": "info",
            "max": 1,
            "_view_module": "@jupyter-widgets/controls",
            "_model_module_version": "1.5.0",
            "value": 1,
            "_view_count": null,
            "_view_module_version": "1.5.0",
            "orientation": "horizontal",
            "min": 0,
            "description_tooltip": null,
            "_model_module": "@jupyter-widgets/controls",
            "layout": "IPY_MODEL_03cb26d5d7484c2b97c8960b6d94fede"
          }
        },
        "10384c74a57c4394b64a6fa8598de9b1": {
          "model_module": "@jupyter-widgets/controls",
          "model_name": "HTMLModel",
          "state": {
            "_view_name": "HTMLView",
            "style": "IPY_MODEL_ed5a7082d771456fa586953552b902ae",
            "_dom_classes": [],
            "description": "",
            "_model_name": "HTMLModel",
            "placeholder": "​",
            "_view_module": "@jupyter-widgets/controls",
            "_model_module_version": "1.5.0",
            "value": " 170500096/? [00:17&lt;00:00, 53602457.48it/s]",
            "_view_count": null,
            "_view_module_version": "1.5.0",
            "description_tooltip": null,
            "_model_module": "@jupyter-widgets/controls",
            "layout": "IPY_MODEL_9d9f6ca3c1d948fd83769599464e7c49"
          }
        },
        "ca8f9a8e5556491c902d8e5b43a98e65": {
          "model_module": "@jupyter-widgets/controls",
          "model_name": "ProgressStyleModel",
          "state": {
            "_view_name": "StyleView",
            "_model_name": "ProgressStyleModel",
            "description_width": "initial",
            "_view_module": "@jupyter-widgets/base",
            "_model_module_version": "1.5.0",
            "_view_count": null,
            "_view_module_version": "1.2.0",
            "bar_color": null,
            "_model_module": "@jupyter-widgets/controls"
          }
        },
        "03cb26d5d7484c2b97c8960b6d94fede": {
          "model_module": "@jupyter-widgets/base",
          "model_name": "LayoutModel",
          "state": {
            "_view_name": "LayoutView",
            "grid_template_rows": null,
            "right": null,
            "justify_content": null,
            "_view_module": "@jupyter-widgets/base",
            "overflow": null,
            "_model_module_version": "1.2.0",
            "_view_count": null,
            "flex_flow": null,
            "width": null,
            "min_width": null,
            "border": null,
            "align_items": null,
            "bottom": null,
            "_model_module": "@jupyter-widgets/base",
            "top": null,
            "grid_column": null,
            "overflow_y": null,
            "overflow_x": null,
            "grid_auto_flow": null,
            "grid_area": null,
            "grid_template_columns": null,
            "flex": null,
            "_model_name": "LayoutModel",
            "justify_items": null,
            "grid_row": null,
            "max_height": null,
            "align_content": null,
            "visibility": null,
            "align_self": null,
            "height": null,
            "min_height": null,
            "padding": null,
            "grid_auto_rows": null,
            "grid_gap": null,
            "max_width": null,
            "order": null,
            "_view_module_version": "1.2.0",
            "grid_template_areas": null,
            "object_position": null,
            "object_fit": null,
            "grid_auto_columns": null,
            "margin": null,
            "display": null,
            "left": null
          }
        },
        "ed5a7082d771456fa586953552b902ae": {
          "model_module": "@jupyter-widgets/controls",
          "model_name": "DescriptionStyleModel",
          "state": {
            "_view_name": "StyleView",
            "_model_name": "DescriptionStyleModel",
            "description_width": "",
            "_view_module": "@jupyter-widgets/base",
            "_model_module_version": "1.5.0",
            "_view_count": null,
            "_view_module_version": "1.2.0",
            "_model_module": "@jupyter-widgets/controls"
          }
        },
        "9d9f6ca3c1d948fd83769599464e7c49": {
          "model_module": "@jupyter-widgets/base",
          "model_name": "LayoutModel",
          "state": {
            "_view_name": "LayoutView",
            "grid_template_rows": null,
            "right": null,
            "justify_content": null,
            "_view_module": "@jupyter-widgets/base",
            "overflow": null,
            "_model_module_version": "1.2.0",
            "_view_count": null,
            "flex_flow": null,
            "width": null,
            "min_width": null,
            "border": null,
            "align_items": null,
            "bottom": null,
            "_model_module": "@jupyter-widgets/base",
            "top": null,
            "grid_column": null,
            "overflow_y": null,
            "overflow_x": null,
            "grid_auto_flow": null,
            "grid_area": null,
            "grid_template_columns": null,
            "flex": null,
            "_model_name": "LayoutModel",
            "justify_items": null,
            "grid_row": null,
            "max_height": null,
            "align_content": null,
            "visibility": null,
            "align_self": null,
            "height": null,
            "min_height": null,
            "padding": null,
            "grid_auto_rows": null,
            "grid_gap": null,
            "max_width": null,
            "order": null,
            "_view_module_version": "1.2.0",
            "grid_template_areas": null,
            "object_position": null,
            "object_fit": null,
            "grid_auto_columns": null,
            "margin": null,
            "display": null,
            "left": null
          }
        }
      }
    }
  },
  "cells": [
    {
      "cell_type": "markdown",
      "metadata": {
        "id": "YXzbxtmdnM9m"
      },
      "source": [
        "# Project of Machine Learning : Adversarial attacks"
      ]
    },
    {
      "cell_type": "code",
      "metadata": {
        "id": "SpC3m-Hp3yun"
      },
      "source": [
        "import torch\n",
        "import torchvision\n",
        "from torchvision import datasets, transforms\n",
        "from torch.utils.data.sampler import SubsetRandomSampler\n",
        "from torch.utils.data import Subset\n",
        "import torch.nn as nn\n",
        "import torch.nn.functional as F\n",
        "\n",
        "import numpy as np\n",
        "import matplotlib.pyplot as plt"
      ],
      "execution_count": 2,
      "outputs": []
    },
    {
      "cell_type": "code",
      "metadata": {
        "id": "nLsk8CHJdKYR"
      },
      "source": [
        "from sklearn.metrics import confusion_matrix\n",
        "from sklearn.model_selection import train_test_split\n",
        "import pandas as pd\n",
        "import torch.optim as optim"
      ],
      "execution_count": 3,
      "outputs": []
    },
    {
      "cell_type": "code",
      "metadata": {
        "id": "EkcUzf4s67V_",
        "outputId": "8e6dfb54-1553-4f7d-a812-91b36a18ce4d",
        "colab": {
          "base_uri": "https://localhost:8080/"
        }
      },
      "source": [
        "DEVICE = torch.device(\"cuda\" if torch.cuda.is_available() else \"cpu\")\n",
        "DEVICE"
      ],
      "execution_count": 4,
      "outputs": [
        {
          "output_type": "execute_result",
          "data": {
            "text/plain": [
              "device(type='cuda')"
            ]
          },
          "metadata": {
            "tags": []
          },
          "execution_count": 4
        }
      ]
    },
    {
      "cell_type": "code",
      "metadata": {
        "id": "dTSe5us1BlDW",
        "outputId": "aee8a212-47f5-4cfa-d509-2f7ce36c9410",
        "colab": {
          "resources": {
            "http://localhost:8080/nbextensions/google.colab/files.js": {
              "data": "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",
              "ok": true,
              "headers": [
                [
                  "content-type",
                  "application/javascript"
                ]
              ],
              "status": 200,
              "status_text": ""
            }
          },
          "base_uri": "https://localhost:8080/",
          "height": 91
        }
      },
      "source": [
        "from google.colab import files\n",
        "\n",
        "uploaded = files.upload()\n",
        "for fn in uploaded.keys():\n",
        "  print('User uploaded file \"{name}\" with length {length} bytes'.format(\n",
        "     name=fn, length=len(uploaded[fn])))"
      ],
      "execution_count": 5,
      "outputs": [
        {
          "output_type": "display_data",
          "data": {
            "text/html": [
              "\n",
              "     <input type=\"file\" id=\"files-7b36bed7-eb58-4d10-97bf-e8d86a37f861\" name=\"files[]\" multiple disabled\n",
              "        style=\"border:none\" />\n",
              "     <output id=\"result-7b36bed7-eb58-4d10-97bf-e8d86a37f861\">\n",
              "      Upload widget is only available when the cell has been executed in the\n",
              "      current browser session. Please rerun this cell to enable.\n",
              "      </output>\n",
              "      <script src=\"/nbextensions/google.colab/files.js\"></script> "
            ],
            "text/plain": [
              "<IPython.core.display.HTML object>"
            ]
          },
          "metadata": {
            "tags": []
          }
        },
        {
          "output_type": "stream",
          "text": [
            "Saving cifar_net_CLASSIC_10epochs.pth to cifar_net_CLASSIC_10epochs.pth\n",
            "User uploaded file \"cifar_net_CLASSIC_10epochs.pth\" with length 683061 bytes\n"
          ],
          "name": "stdout"
        }
      ]
    },
    {
      "cell_type": "code",
      "metadata": {
        "id": "TGI_cbuKBtNn",
        "outputId": "cf650dc5-124a-40c2-84cf-00faddebc052",
        "colab": {
          "resources": {
            "http://localhost:8080/nbextensions/google.colab/files.js": {
              "data": "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",
              "ok": true,
              "headers": [
                [
                  "content-type",
                  "application/javascript"
                ]
              ],
              "status": 200,
              "status_text": ""
            }
          },
          "base_uri": "https://localhost:8080/",
          "height": 91
        }
      },
      "source": [
        "uploaded = files.upload()\n",
        "for fn in uploaded.keys():\n",
        "  print('User uploaded file \"{name}\" with length {length} bytes'.format(\n",
        "     name=fn, length=len(uploaded[fn])))"
      ],
      "execution_count": 6,
      "outputs": [
        {
          "output_type": "display_data",
          "data": {
            "text/html": [
              "\n",
              "     <input type=\"file\" id=\"files-54195776-47eb-4b75-b78c-d6f2d524d736\" name=\"files[]\" multiple disabled\n",
              "        style=\"border:none\" />\n",
              "     <output id=\"result-54195776-47eb-4b75-b78c-d6f2d524d736\">\n",
              "      Upload widget is only available when the cell has been executed in the\n",
              "      current browser session. Please rerun this cell to enable.\n",
              "      </output>\n",
              "      <script src=\"/nbextensions/google.colab/files.js\"></script> "
            ],
            "text/plain": [
              "<IPython.core.display.HTML object>"
            ]
          },
          "metadata": {
            "tags": []
          }
        },
        {
          "output_type": "stream",
          "text": [
            "Saving cifar_net_AdvTRAIN_10epochs.pth to cifar_net_AdvTRAIN_10epochs.pth\n",
            "User uploaded file \"cifar_net_AdvTRAIN_10epochs.pth\" with length 683061 bytes\n"
          ],
          "name": "stdout"
        }
      ]
    },
    {
      "cell_type": "code",
      "metadata": {
        "id": "L1r33YVM4Fzr",
        "outputId": "6be15774-b76c-4e1d-89e1-233a464ef2d9",
        "colab": {
          "base_uri": "https://localhost:8080/",
          "height": 103,
          "referenced_widgets": [
            "c7ab562d7d4d42e0a1b00e5ad1edfd21",
            "16a161f7898a454494bdd77bcf7984fa",
            "b8c724b6e2e644cdb5be534b54b84a0e",
            "10384c74a57c4394b64a6fa8598de9b1",
            "ca8f9a8e5556491c902d8e5b43a98e65",
            "03cb26d5d7484c2b97c8960b6d94fede",
            "ed5a7082d771456fa586953552b902ae",
            "9d9f6ca3c1d948fd83769599464e7c49"
          ]
        }
      },
      "source": [
        "transform = transforms.Compose(\n",
        "    [transforms.ToTensor(),\n",
        "     transforms.Normalize((0.5, 0.5, 0.5), (0.5, 0.5, 0.5))])\n",
        "\n",
        "trainset = torchvision.datasets.CIFAR10(root='./data', train=True,\n",
        "                                        download=True, transform=transform)\n",
        "\n",
        "trainloader = torch.utils.data.DataLoader(trainset, batch_size=4,\n",
        "                                          shuffle=True, num_workers=2)\n",
        "\n",
        "testset = torchvision.datasets.CIFAR10(root='./data', train=False,\n",
        "                                       download=True, transform=transform)\n",
        "\n",
        "testloader = torch.utils.data.DataLoader(testset, batch_size=256,\n",
        "                                         shuffle=False, num_workers=2)\n",
        "\n",
        "classes = ('plane', 'car', 'bird', 'cat',\n",
        "           'deer', 'dog', 'frog', 'horse', 'ship', 'truck')"
      ],
      "execution_count": 7,
      "outputs": [
        {
          "output_type": "stream",
          "text": [
            "Downloading https://www.cs.toronto.edu/~kriz/cifar-10-python.tar.gz to ./data/cifar-10-python.tar.gz\n"
          ],
          "name": "stdout"
        },
        {
          "output_type": "display_data",
          "data": {
            "application/vnd.jupyter.widget-view+json": {
              "model_id": "c7ab562d7d4d42e0a1b00e5ad1edfd21",
              "version_minor": 0,
              "version_major": 2
            },
            "text/plain": [
              "HBox(children=(FloatProgress(value=1.0, bar_style='info', max=1.0), HTML(value='')))"
            ]
          },
          "metadata": {
            "tags": []
          }
        },
        {
          "output_type": "stream",
          "text": [
            "Extracting ./data/cifar-10-python.tar.gz to ./data\n",
            "Files already downloaded and verified\n"
          ],
          "name": "stdout"
        }
      ]
    },
    {
      "cell_type": "code",
      "metadata": {
        "id": "z2SuEHgm0rM8"
      },
      "source": [
        "# functions to show an image\n",
        "\n",
        "def imshow(img):\n",
        "    img = img / 2 + 0.5     # unnormalize\n",
        "    npimg = img.numpy()\n",
        "    plt.imshow(np.transpose(npimg, (1, 2, 0)))\n",
        "    plt.show()\n",
        "    \n",
        "def imsave(img, count=None, categorie=None):\n",
        "    img = img / 2 + 0.5     # unnormalize\n",
        "    npimg = img.numpy()\n",
        "    plt.imshow(np.transpose(npimg, (1, 2, 0)))\n",
        "    if count != None and categorie != None :\n",
        "        plt.savefig(\"{}_images_{}\".format(count, categorie))\n",
        "    #plt.show()\n",
        "\n",
        "def imageshow(image):\n",
        "    img = torchvision.utils.make_grid(image.to('cpu'))\n",
        "    img = img / 2 + 0.5     # unnormalize\n",
        "    npimg = img.numpy()\n",
        "    return np.transpose(npimg, (1, 2, 0))"
      ],
      "execution_count": 8,
      "outputs": []
    },
    {
      "cell_type": "markdown",
      "metadata": {
        "id": "8DE_rYa89tGQ"
      },
      "source": [
        "#### Clean definition of all the iterator over Data"
      ]
    },
    {
      "cell_type": "code",
      "metadata": {
        "id": "XPqmcRho9t8V"
      },
      "source": [
        "def train_val_dataset(dataset, val_split=0.1):\n",
        "    train_idx, val_idx = train_test_split(list(range(len(dataset))), test_size=val_split)\n",
        "    datasets = {}\n",
        "    datasets['train'] = Subset(dataset, train_idx)\n",
        "    datasets['val'] = Subset(dataset, val_idx)\n",
        "    return datasets\n",
        "\n",
        "\n",
        "def data_loading(set_data, repartition_train_valid, b_size, training=False):\n",
        "  if training :\n",
        "    print(\"Loading of Training and Validation sets !\")\n",
        "    datasets = train_val_dataset(set_data, repartition_train_valid)\n",
        "    dataloaders = {x : torch.utils.data.DataLoader(datasets[x], batch_size=b_size, shuffle=True, num_workers=2) for x in ['train','val']}\n",
        "    trainloader = dataloaders['train']\n",
        "    validloader = dataloaders['val']\n",
        "    return trainloader, validloader\n",
        "  \n",
        "  else :\n",
        "    print(\"Loading of the Test set !\")\n",
        "    testloader = torch.utils.data.DataLoader(set_data, batch_size=b_size,\n",
        "                                              shuffle=True, num_workers=2)\n",
        "    return testloader"
      ],
      "execution_count": 9,
      "outputs": []
    },
    {
      "cell_type": "markdown",
      "metadata": {
        "id": "F8esB5xg46zZ"
      },
      "source": [
        "#### Class of our CNN"
      ]
    },
    {
      "cell_type": "code",
      "metadata": {
        "id": "lE0hAS1O4JN1"
      },
      "source": [
        "class Net(nn.Module): \n",
        "    def __init__(self):\n",
        "        super(Net, self).__init__()\n",
        "        self.conv1 = nn.Conv2d(3, 32, 3)\n",
        "        self.conv2 = nn.Conv2d(32, 64, 3)\n",
        "        self.conv3 = nn.Conv2d(64, 128, 3)\n",
        "        self.pool = nn.MaxPool2d(2, 2)\n",
        "        self.fc1 = nn.Linear(128 * 2 * 2, 128)\n",
        "        self.fc2 = nn.Linear(128, 64)\n",
        "        self.fc3 = nn.Linear(64, 32)\n",
        "        self.fc4 = nn.Linear(32, 10)\n",
        "        self.dropout1 = nn.Dropout(p=0.2, inplace=False)\n",
        "\n",
        "    def forward(self, x):\n",
        "        x = self.pool(F.relu(self.conv1(x)))\n",
        "        x = self.dropout1(x)\n",
        "        x = self.pool(F.relu(self.conv2(x)))\n",
        "        x = self.dropout1(x)\n",
        "        x = self.pool(F.relu(self.conv3(x)))\n",
        "        x = self.dropout1(x)\n",
        "        x = x.view(-1, 128 * 2 * 2)\n",
        "        x = F.relu(self.fc1(x))\n",
        "        x = F.relu(self.fc2(x))\n",
        "        x = F.relu(self.fc3(x))\n",
        "        x = self.fc4(x)\n",
        "        return x\n",
        "      \n",
        "\n",
        "    def fit(self, train_set, test_set, batch_size, nb_epochs, criterion, learning_r):\n",
        "      train, valid = data_loading(train_set, 0.1, batch_size, training=True)\n",
        "      test = data_loading(test_set, 0.1, batch_size, training=False)\n",
        "      optimizer = optim.SGD(self.parameters(), lr=learning_r, momentum=0.9)\n",
        "      \n",
        "      loss_total = []\n",
        "      valid_loss_total = []\n",
        "      acc_total = []\n",
        "\n",
        "      for epoch in range(nb_epochs):  # loop over the dataset multiple times\n",
        "        running_loss = 0.0\n",
        "        valid_loss = 0.0\n",
        "        temp = []\n",
        "        for i, data in enumerate(train, 0):\n",
        "          # get the inputs; data is a list of [inputs, labels]\n",
        "          inputs, labels = data[0].to(DEVICE), data[1].to(DEVICE)\n",
        "\n",
        "          # zero the parameter gradients\n",
        "          optimizer.zero_grad()\n",
        "\n",
        "          # forward + backward + optimize\n",
        "          outputs = self.forward(inputs)\n",
        "          loss = criterion(outputs, labels)\n",
        "          loss.backward()\n",
        "          optimizer.step()\n",
        "\n",
        "          # print statistics\n",
        "          running_loss += loss.item()\n",
        "          nbr_ref = int(( 5400 / (batch_size / 4) ))\n",
        "\n",
        "          if i % nbr_ref == nbr_ref - 1:    # print every XXX mini-batches\n",
        "              print('[%d, %5d] loss: %.3f' %\n",
        "                    (epoch + 1, i + 1, running_loss / nbr_ref ))\n",
        "              \n",
        "              temp.append(running_loss/nbr_ref)\n",
        "              running_loss = 0.0\n",
        "        loss_total.append(np.mean(temp))\n",
        "        \n",
        "        with torch.no_grad():\n",
        "          temp = []\n",
        "          for i, data in enumerate(valid, 0):\n",
        "            inputs, labels = data[0].to(DEVICE), data[1].to(DEVICE)\n",
        "\n",
        "            # forward + backward + optimize\n",
        "            outputs = self.forward(inputs)\n",
        "            loss_valid = criterion(outputs, labels)\n",
        "\n",
        "            # print statistics\n",
        "            valid_loss += loss_valid.item()\n",
        "            nbr_ref = int(( 600 / (batch_size / 4) ))\n",
        "            if i % nbr_ref == nbr_ref - 1:    # print every XXX mini-batches\n",
        "              print('[%d, %5d] valid loss: %.3f' %\n",
        "                    (epoch + 1, i + 1, valid_loss/nbr_ref))\n",
        "              \n",
        "              temp.append(valid_loss/nbr_ref)\n",
        "              valid_loss = 0.0\n",
        "          valid_loss_total.append(np.mean(temp))\n",
        "        \n",
        "        correct = 0\n",
        "        total = 0\n",
        "        with torch.no_grad():\n",
        "          for data in test :\n",
        "            inputs, labels = data[0].to(DEVICE), data[1].to(DEVICE)\n",
        "            outputs = self.forward(inputs)\n",
        "            _, predicted = torch.max(outputs.data, 1)\n",
        "            total += labels.size(0)\n",
        "            correct += (predicted == labels).sum().item()\n",
        "        \n",
        "        acc_total.append(100 * correct / total)\n",
        "      print('Finished Training')\n",
        "      return acc_total, loss_total, valid_loss_total\n",
        "\n",
        "\n",
        "\n",
        "    def test(self, test_set, batch_size):\n",
        "      test = data_loading(test_set, 0.1, batch_size, training=False)\n",
        "      correct = 0\n",
        "      total = 0\n",
        "      confusion_matrix = np.zeros([10,10], int)\n",
        "      with torch.no_grad():\n",
        "          for data in test :\n",
        "              inputs, labels = data[0].to(DEVICE), data[1].to(DEVICE)\n",
        "              outputs = self.forward(inputs)\n",
        "              _, predicted = torch.max(outputs.data, 1)\n",
        "              total += labels.size(0)\n",
        "              correct += (predicted == labels).sum().item()\n",
        "\n",
        "              for i, l in enumerate(labels):\n",
        "                  confusion_matrix[l.item(), predicted[i].item()] += 1 \n",
        "\n",
        "      acc_total = 100 * correct / total\n",
        "      print('Accuracy of the network on the 10000 test images: %d %%' % (\n",
        "          acc_total ))\n",
        "      \n",
        "      resultats = []\n",
        "      print('{0:10s} - {1}'.format('Category','Accuracy'))\n",
        "      for i, r in enumerate(confusion_matrix):\n",
        "          print('{0:10s} - {1:.1f}'.format(classes[i], r[i]/np.sum(r)*100))\n",
        "          resultats.append('{0:10s} - {1:.1f}'.format(classes[i], r[i]/np.sum(r)*100))\n",
        "\n",
        "      return acc_total, confusion_matrix, resultats"
      ],
      "execution_count": 10,
      "outputs": []
    },
    {
      "cell_type": "code",
      "metadata": {
        "id": "bxjBzYY3rChu",
        "outputId": "e5c023ad-24d3-4e97-9b77-c905b11cdcc6",
        "colab": {
          "base_uri": "https://localhost:8080/"
        }
      },
      "source": [
        "net = Net()\n",
        "PATH = './cifar_net_CLASSIC_10epochs.pth'\n",
        "net.load_state_dict(torch.load(PATH))\n",
        "net.to(DEVICE)"
      ],
      "execution_count": 11,
      "outputs": [
        {
          "output_type": "execute_result",
          "data": {
            "text/plain": [
              "Net(\n",
              "  (conv1): Conv2d(3, 32, kernel_size=(3, 3), stride=(1, 1))\n",
              "  (conv2): Conv2d(32, 64, kernel_size=(3, 3), stride=(1, 1))\n",
              "  (conv3): Conv2d(64, 128, kernel_size=(3, 3), stride=(1, 1))\n",
              "  (pool): MaxPool2d(kernel_size=2, stride=2, padding=0, dilation=1, ceil_mode=False)\n",
              "  (fc1): Linear(in_features=512, out_features=128, bias=True)\n",
              "  (fc2): Linear(in_features=128, out_features=64, bias=True)\n",
              "  (fc3): Linear(in_features=64, out_features=32, bias=True)\n",
              "  (fc4): Linear(in_features=32, out_features=10, bias=True)\n",
              "  (dropout1): Dropout(p=0.2, inplace=False)\n",
              ")"
            ]
          },
          "metadata": {
            "tags": []
          },
          "execution_count": 11
        }
      ]
    },
    {
      "cell_type": "code",
      "metadata": {
        "id": "CsCCm8EVrCh0",
        "outputId": "e7f6a084-630d-4f37-a984-1856a4c09a60",
        "colab": {
          "base_uri": "https://localhost:8080/"
        }
      },
      "source": [
        "model_adv = Net()\n",
        "PATH_adv = './cifar_net_AdvTRAIN_10epochs.pth'\n",
        "model_adv.load_state_dict(torch.load(PATH_adv))\n",
        "model_adv.to(DEVICE)"
      ],
      "execution_count": 12,
      "outputs": [
        {
          "output_type": "execute_result",
          "data": {
            "text/plain": [
              "Net(\n",
              "  (conv1): Conv2d(3, 32, kernel_size=(3, 3), stride=(1, 1))\n",
              "  (conv2): Conv2d(32, 64, kernel_size=(3, 3), stride=(1, 1))\n",
              "  (conv3): Conv2d(64, 128, kernel_size=(3, 3), stride=(1, 1))\n",
              "  (pool): MaxPool2d(kernel_size=2, stride=2, padding=0, dilation=1, ceil_mode=False)\n",
              "  (fc1): Linear(in_features=512, out_features=128, bias=True)\n",
              "  (fc2): Linear(in_features=128, out_features=64, bias=True)\n",
              "  (fc3): Linear(in_features=64, out_features=32, bias=True)\n",
              "  (fc4): Linear(in_features=32, out_features=10, bias=True)\n",
              "  (dropout1): Dropout(p=0.2, inplace=False)\n",
              ")"
            ]
          },
          "metadata": {
            "tags": []
          },
          "execution_count": 12
        }
      ]
    },
    {
      "cell_type": "markdown",
      "metadata": {
        "id": "sqfSg1V8rCh6"
      },
      "source": [
        "## Metrics for Attacks' Quality"
      ]
    },
    {
      "cell_type": "code",
      "metadata": {
        "id": "DscOouzlrCh7"
      },
      "source": [
        "# Get an idea of the image distortion on the 3 main norms\n",
        "def distortion(X_batch_tensor, X_att_tensor, DEVICE):\n",
        "    \n",
        "    # Unnormalize to compute norm on \"real\" image\n",
        "    X_batch_t = X_batch_tensor / 2 + 0.5\n",
        "    X_att_t = X_att_tensor / 2 + 0.5\n",
        "    \n",
        "    # Convert to numpy array\n",
        "    X_batch_t = X_batch_t.to('cpu').numpy()\n",
        "    X_att_t = X_att_t.to('cpu').numpy()  #shape (4, 3, 32, 32)\n",
        "    \n",
        "    # Compute 2-norm and infinite norm\n",
        "    norm1, norminf = 0, 0\n",
        "    for i in range(X_att_t.shape[0]):\n",
        "        norm1 += np.mean(np.abs(X_att_t[i] - X_batch_t[i])) #1-norm\n",
        "        norminf += np.max(np.abs(X_att_t[i] - X_batch_t[i])) #Inf-norm\n",
        "    \n",
        "    X_batch_tensor.to(DEVICE)\n",
        "    X_att_tensor.to(DEVICE)\n",
        "    \n",
        "    return np.round(norm1/X_att_t.shape[0],2), np.round(norminf/X_att_t.shape[0],2)"
      ],
      "execution_count": 13,
      "outputs": []
    },
    {
      "cell_type": "code",
      "metadata": {
        "id": "QsfN0NjIrCiB"
      },
      "source": [
        "def visualize_attack(attack, net, testloader, DEVICE, classes, nb=8):\n",
        "    images, labels = iter(testloader).next()\n",
        "    images_att = attack(net, DEVICE, images.to(DEVICE), labels.to(DEVICE), torch.nn.CrossEntropyLoss())\n",
        "    pred_labels = net(images.to(DEVICE)).to('cpu').int().argmax(axis=1)\n",
        "    pred_labels_att = net(images_att.to(DEVICE)).to('cpu').int().argmax(axis=1)\n",
        "    \n",
        "    # Print distortion of selected attacked images \n",
        "    norm2, norminf = distortion(images, images_att, DEVICE)\n",
        "    \n",
        "    # Convert image tensors to plot-able images \n",
        "    images, images_att = imageshow(images[0:nb]), imageshow(images_att[0:nb])\n",
        "    \n",
        "    fig, axes = plt.subplots(2)\n",
        "    axes[0].imshow(images)\n",
        "    axes[0].set_title('True labels: \\n' + \n",
        "                      '   '.join('%5s' % classes[labels[j]] for j in range(nb)) +\n",
        "                      '\\n \\nClassic CNN predictions: \\n' +\n",
        "                      '   '.join('%5s' % classes[pred_labels[j]] for j in range(nb)),\n",
        "                      fontsize=13)\n",
        "    axes[0].xaxis.set_visible(False)\n",
        "    axes[0].yaxis.set_visible(False)\n",
        "    \n",
        "    axes[1].imshow(images_att)\n",
        "    axes[1].set_title('Images under {} & Classic CNN predictions: \\n'.format(attack.__name__) +\n",
        "                      '(Distortion is: 1-norm: {}, inf-norm: {}) \\n'.format(norm2, norminf) + \n",
        "                      '   '.join('%5s' % classes[pred_labels_att[j]] for j in range(nb)),fontsize=13)\n",
        "    axes[1].xaxis.set_visible(False)\n",
        "    axes[1].yaxis.set_visible(False)\n",
        "    #plt.subplots_adjust(hspace=0.1)\n",
        "    plt.savefig('raw_vs_attacked_{}.jpg'.format(attack.__name__), dpi=1000)\n",
        "    print('Visualization for {}'.format(attack.__name__) + ' is saved under images folder.')"
      ],
      "execution_count": 14,
      "outputs": []
    },
    {
      "cell_type": "code",
      "metadata": {
        "id": "Xi_8BGvcrCiE"
      },
      "source": [
        "# Test attack\n",
        "def test_attack(attack, attacked_cnn, classif_cnn, testloader, DEVICE, classes, corner_size=10, nb_it=7):\n",
        "    net.to(DEVICE)\n",
        "    \n",
        "    correct = 0\n",
        "    total = 0\n",
        "    batch_counter = 0\n",
        "    norm1, norminf = 0,0\n",
        "    correct_att = 0\n",
        "    confusion_matrix = np.zeros([10,10], int)\n",
        "    confusion_matrix_att = np.zeros([10,10], int)\n",
        "    \n",
        "    for data in testloader:\n",
        "        inputs, labels = data[0].to(DEVICE), data[1].to(DEVICE)\n",
        "        \n",
        "        if attack == corner_attack :\n",
        "            inputs_att = attack(attacked_cnn, DEVICE, inputs, labels, torch.nn.CrossEntropyLoss(), nb_it, corner_size)\n",
        "        else :\n",
        "            inputs_att = attack(attacked_cnn, DEVICE, inputs, labels, torch.nn.CrossEntropyLoss(), nb_it)\n",
        "        \n",
        "        a,b = distortion(inputs, inputs_att, DEVICE)\n",
        "        norm1 += a\n",
        "        norminf += b\n",
        "        batch_counter += 1\n",
        "\n",
        "        outputs = classif_cnn(inputs)\n",
        "        outputs_att = classif_cnn(inputs_att)\n",
        "\n",
        "        _, predicted = torch.max(outputs.data, 1)\n",
        "        _, predicted_att = torch.max(outputs_att.data, 1)\n",
        "        total += labels.size(0)\n",
        "        correct += (predicted == labels).sum().item()\n",
        "        correct_att += (predicted_att == labels).sum().item()\n",
        "        \n",
        "        for i, l in enumerate(labels):\n",
        "            confusion_matrix[l.item(), predicted[i].item()] += 1\n",
        "            confusion_matrix_att[l.item(), predicted_att[i].item()] += 1\n",
        "        \n",
        "    # Print accuracy of network on raw and attacked images \n",
        "    print('Accuracy of the network on the 10000 test raw images: {} %'.format(\n",
        "        100 * correct / total))\n",
        "    print('Accuracy of the network on the 10000 test {}-attacked images: {} %'.format(\n",
        "        attack.__name__, 100 * correct_att / total))\n",
        "    \n",
        "    # Print distortion of attacked images \n",
        "    print('Average distortion on images is: 1-norm: {}, inf-norm: {}'.format(\n",
        "        norm1/batch_counter, norminf/batch_counter))\n",
        "\n",
        "        \n",
        "    # Plot confusion matrix for attacked images \n",
        "    fig, ax = plt.subplots(1,1,figsize=(8,6))\n",
        "    ax.matshow(confusion_matrix_att, aspect='auto', vmin=0, vmax=1000, cmap=plt.get_cmap('Blues'))\n",
        "    plt.ylabel('Actual Category')\n",
        "    plt.yticks(range(10), classes)\n",
        "    plt.xlabel('Predicted Category')\n",
        "    plt.xticks(range(10), classes)\n",
        "    plt.savefig('CNN_confusion_{}.jpg'.format(attack.__name__), dpi=200) \n",
        "    print('Confusion matrix on {}-attacked images saved under training_logs folder'.format(attack.__name__))\n",
        "    \n",
        "    return (100 * correct_att / total)"
      ],
      "execution_count": 15,
      "outputs": []
    },
    {
      "cell_type": "markdown",
      "metadata": {
        "id": "-v_me5sCrCiG"
      },
      "source": [
        "## Accuracy performance of AdvTrained CNN against attacks"
      ]
    },
    {
      "cell_type": "markdown",
      "metadata": {
        "id": "I5TOFkUjrCiG"
      },
      "source": [
        "### Attacks inspired by PGD, in a targeted approach."
      ]
    },
    {
      "cell_type": "code",
      "metadata": {
        "id": "bObeYhDrWHVS"
      },
      "source": [
        "def distance_plot_delta(X_batch, X_att):\n",
        "    return torch.mean( torch.norm(X_att - X_batch, dim=1) )"
      ],
      "execution_count": 16,
      "outputs": []
    },
    {
      "cell_type": "code",
      "metadata": {
        "id": "dnYDz-s97wke"
      },
      "source": [
        "def pgd_attack(model_cnn, device, X_batch, y_batch, loss_model, nb_it=7, eta=2 / 255, epsilon=8 / 255):\n",
        "    model_cnn.to(device)\n",
        "    epsilon, eta = epsilon / 0.5, eta / 0.5\n",
        "    delta = nn.Parameter(torch.zeros(X_batch.shape, requires_grad=True, device=device))\n",
        "    for it in range(nb_it):\n",
        "        loss = loss_model(model_cnn(X_batch + delta), y_batch)\n",
        "        loss.backward()\n",
        "        delta.data = (delta + eta * torch.sign(delta.grad.data)).clamp(-epsilon, epsilon)\n",
        "        delta.grad.zero_()\n",
        "    X_att = X_batch + delta\n",
        "    return X_att.detach()"
      ],
      "execution_count": 17,
      "outputs": []
    },
    {
      "cell_type": "code",
      "metadata": {
        "id": "JPofvyQyrCiM"
      },
      "source": [
        "def shift_loop(x):\n",
        "    if x == 10 : \n",
        "        return 0\n",
        "    else :\n",
        "        return x"
      ],
      "execution_count": 18,
      "outputs": []
    },
    {
      "cell_type": "code",
      "metadata": {
        "id": "cSkV0T9hrCiP"
      },
      "source": [
        "# Define attack which aims at learning the wrong label in the PGD framework\n",
        "\n",
        "def shift_random_attack(model_cnn, device, X_batch, y_batch, loss_model, nb_it=7, eta=2/255, epsilon=8/255):\n",
        "    model_cnn.to(device)\n",
        "    epsilon, eta = epsilon / 0.5, eta / 0.5\n",
        "    delta = nn.Parameter(torch.zeros(X_batch.shape, requires_grad=True, device=device))\n",
        "    \n",
        "    # Shift labels to fool the neural network\n",
        "    y_att = (y_batch + 1).cpu().numpy()\n",
        "    y_batch.to(device)\n",
        "    y_batch_shifted = torch.tensor([shift_loop(x) for x in y_att]).to(device)\n",
        "    \n",
        "    for it in range(nb_it):\n",
        "        loss = loss_model(model_cnn(X_batch + delta), y_batch_shifted)\n",
        "        loss.backward()\n",
        "        delta.data = (delta - eta*torch.sign(delta.grad.data)).clamp(-epsilon,epsilon)\n",
        "        delta.grad.zero_()\n",
        "    \n",
        "    X_att = X_batch + delta\n",
        "    return X_att.detach()#.requires_grad_(False)"
      ],
      "execution_count": 19,
      "outputs": []
    },
    {
      "cell_type": "code",
      "metadata": {
        "id": "jkFT-ApCrCiR"
      },
      "source": [
        "# Define attack which aims at learning the wrong label in the PGD framework\n",
        "def shift_nearest_neuron_attack(model_cnn, device, X_batch, y_batch, loss_model, nb_it=7, eta=2/255, epsilon=8/255) :\n",
        "    model_cnn.to(device)\n",
        "    epsilon, eta = epsilon / 0.5, eta / 0.5\n",
        "    delta = nn.Parameter(torch.zeros(X_batch.shape, requires_grad=True, device=device))\n",
        "\n",
        "    # Shift labels to fool the neural network\n",
        "    y_pred = model_cnn(X_batch)\n",
        "    y_batch_shifted = torch.topk(y_pred, 2, largest=True, sorted=True).indices[:,1]\n",
        "\n",
        "    for it in range(nb_it):\n",
        "        loss = loss_model(model_cnn(X_batch + delta), y_batch_shifted)\n",
        "        loss.backward()\n",
        "        delta.data = (delta - eta*torch.sign(delta.grad.data)).clamp(-epsilon,epsilon)\n",
        "        delta.grad.zero_()\n",
        "\n",
        "    X_att = X_batch + delta\n",
        "    return X_att.detach()#.requires_grad_(False)"
      ],
      "execution_count": 20,
      "outputs": []
    },
    {
      "cell_type": "code",
      "metadata": {
        "id": "VeFIxXXLrCiV"
      },
      "source": [
        "# Define attack which aims at learning the wrong label in the PGD framework\n",
        "def shift_furthest_neuron_attack(model_cnn, device, X_batch, y_batch, loss_model, nb_it=7, eta=2/255, epsilon=8/255) :\n",
        "    model_cnn.to(device)\n",
        "    epsilon, eta = epsilon / 0.5, eta / 0.5\n",
        "    delta = nn.Parameter(torch.zeros(X_batch.shape, requires_grad=True, device=device))\n",
        "\n",
        "    # Shift labels to fool the neural network\n",
        "    y_pred = model_cnn(X_batch)\n",
        "    y_batch_shifted = torch.topk(y_pred, 1, largest=False, sorted=True).indices[:,0]\n",
        "\n",
        "    for it in range(nb_it):\n",
        "        loss = loss_model(model_cnn(X_batch + delta), y_batch_shifted)\n",
        "        loss.backward()\n",
        "        delta.data = (delta - eta*torch.sign(delta.grad.data)).clamp(-epsilon,epsilon)\n",
        "        delta.grad.zero_()\n",
        "\n",
        "    X_att = X_batch + delta\n",
        "    return X_att.detach()#.requires_grad_(False)"
      ],
      "execution_count": 21,
      "outputs": []
    },
    {
      "cell_type": "markdown",
      "metadata": {
        "id": "ksdsu4f4Ream"
      },
      "source": [
        "### Attack inspired by Carlini-wagner"
      ]
    },
    {
      "cell_type": "code",
      "metadata": {
        "id": "OJlXxpwgrCik"
      },
      "source": [
        "def furthest_neuron_carlini_att(model_cnn, device, X_batch, y_batch, loss_model, nb_it=8, zeta=1.5):\n",
        "    model_cnn.to(device)\n",
        "    delta = nn.Parameter(torch.zeros(X_batch.shape, requires_grad=True, device=device))    \n",
        "    optimizer = optim.SGD([delta], lr=1, momentum=1, weight_decay=0.0005)\n",
        "    \n",
        "    # Shift labels to fool the neural network\n",
        "    y_pred = model_cnn(X_batch)\n",
        "    y_batch_shifted = torch.topk(y_pred, 1, largest=False, sorted=True).indices[:,0]\n",
        "  \n",
        "    for it in range(nb_it):\n",
        "        optimizer.zero_grad()\n",
        "        loss1 = zeta*loss_model(model_cnn(X_batch + delta), y_batch_shifted)\n",
        "        loss2 = torch.norm(delta, p=2)\n",
        "        total_loss = sum([loss1, loss2])\n",
        "        total_loss.backward()\n",
        "        optimizer.step()\n",
        "  \n",
        "    X_att = X_batch + delta\n",
        "    return X_att.detach()"
      ],
      "execution_count": 33,
      "outputs": []
    },
    {
      "cell_type": "markdown",
      "metadata": {
        "id": "YZQV9U5LRxAl"
      },
      "source": [
        "### Local : Corner attack"
      ]
    },
    {
      "cell_type": "code",
      "metadata": {
        "id": "o6GlkBRSrCim"
      },
      "source": [
        "def corner_attack(model_cnn, device, X_batch, y_batch, loss_model, nb_it=7, eta=10, corner_size=10):\n",
        "    model_cnn.to(device)\n",
        "    X_batch, y_batch = X_batch.to(device), y_batch.to(device)\n",
        "   \n",
        "    batch_size = X_batch.shape[0]\n",
        "    corner = torch.zeros((batch_size,3,corner_size,corner_size), device=device).requires_grad_(True)\n",
        "    zerosleft = torch.zeros((batch_size,3,corner_size,32-corner_size), device=device).requires_grad_(False)\n",
        "    bottom = torch.cat((zerosleft, corner), dim=3).requires_grad_(True)\n",
        "    top = torch.zeros((batch_size,3,32-corner_size,32), device=device).requires_grad_(False)\n",
        "    delta = torch.cat((top, bottom), dim=2).requires_grad_(True)\n",
        "   \n",
        "    for it in range(nb_it):\n",
        "        loss = loss_model(model_cnn(X_batch + delta), y_batch)\n",
        "        loss.backward()\n",
        "        corner.data = (corner + eta*torch.sign(corner.grad.data))#.clamp(-epsilon,epsilon)\n",
        "        corner.grad.zero_()\n",
        "       \n",
        "    with torch.no_grad():\n",
        "        bottom = torch.cat((zerosleft, corner), dim=3)\n",
        "        delta = torch.cat((top, bottom), dim=2)\n",
        "        X_att = X_batch + delta\n",
        "   \n",
        "    return X_att.detach() "
      ],
      "execution_count": 25,
      "outputs": []
    },
    {
      "cell_type": "markdown",
      "metadata": {
        "id": "JWy8jWjpRtM9"
      },
      "source": [
        "### Differents plots of attacks"
      ]
    },
    {
      "cell_type": "code",
      "metadata": {
        "id": "DA-InL-mrCjn",
        "outputId": "de62181f-f803-4cf1-ee06-c18cbbea6a75",
        "colab": {
          "base_uri": "https://localhost:8080/",
          "height": 1000
        }
      },
      "source": [
        "for network_classif in [model_adv, net] :\n",
        "    for network_attacked in [net, model_adv] :\n",
        "        \n",
        "        if network_attacked == model_adv and network_classif == net :\n",
        "            break\n",
        "        else :\n",
        "            for a in [pgd_attack, furthest_neuron_carlini_att, corner_attack] :\n",
        "                \n",
        "                print('\\n')\n",
        "                print('Study of {}  on {} loss, classified by {}.'.format(a, [model_adv, net].index(network_attacked), [model_adv, net].index(network_classif)))\n",
        "                acc = test_attack(a, network_attacked, network_classif, testloader, DEVICE, classes)"
      ],
      "execution_count": 34,
      "outputs": [
        {
          "output_type": "stream",
          "text": [
            "\n",
            "\n",
            "Study of <function pgd_attack at 0x7f37001631e0>  on 1 loss, classified by 0.\n",
            "Accuracy of the network on the 10000 test raw images: 54.0 %\n",
            "Accuracy of the network on the 10000 test pgd_attack-attacked images: 66.72 %\n",
            "Average distortion on images is: 1-norm: 0.02000000000000001, inf-norm: 0.03000000000000002\n",
            "Confusion matrix on pgd_attack-attacked images saved under training_logs folder\n",
            "\n",
            "\n",
            "Study of <function furthest_neuron_carlini_att at 0x7f36ee2321e0>  on 1 loss, classified by 0.\n",
            "Accuracy of the network on the 10000 test raw images: 54.28 %\n",
            "Accuracy of the network on the 10000 test furthest_neuron_carlini_att-attacked images: 54.43 %\n",
            "Average distortion on images is: 1-norm: 0.00075, inf-norm: 0.017250000000000005\n",
            "Confusion matrix on furthest_neuron_carlini_att-attacked images saved under training_logs folder\n",
            "\n",
            "\n",
            "Study of <function corner_attack at 0x7f36ee150f28>  on 1 loss, classified by 0.\n",
            "Accuracy of the network on the 10000 test raw images: 54.14 %\n",
            "Accuracy of the network on the 10000 test corner_attack-attacked images: 11.83 %\n",
            "Average distortion on images is: 1-norm: 1.4012499999999997, inf-norm: 34.986000000000004\n",
            "Confusion matrix on corner_attack-attacked images saved under training_logs folder\n",
            "\n",
            "\n",
            "Study of <function pgd_attack at 0x7f37001631e0>  on 0 loss, classified by 0.\n",
            "Accuracy of the network on the 10000 test raw images: 54.0 %\n",
            "Accuracy of the network on the 10000 test pgd_attack-attacked images: 0.48 %\n",
            "Average distortion on images is: 1-norm: 0.02000000000000001, inf-norm: 0.03000000000000002\n",
            "Confusion matrix on pgd_attack-attacked images saved under training_logs folder\n",
            "\n",
            "\n",
            "Study of <function furthest_neuron_carlini_att at 0x7f36ee2321e0>  on 0 loss, classified by 0.\n",
            "Accuracy of the network on the 10000 test raw images: 53.9 %\n",
            "Accuracy of the network on the 10000 test furthest_neuron_carlini_att-attacked images: 49.38 %\n",
            "Average distortion on images is: 1-norm: 0.001, inf-norm: 0.03100000000000001\n",
            "Confusion matrix on furthest_neuron_carlini_att-attacked images saved under training_logs folder\n",
            "\n",
            "\n",
            "Study of <function corner_attack at 0x7f36ee150f28>  on 0 loss, classified by 0.\n",
            "Accuracy of the network on the 10000 test raw images: 54.21 %\n",
            "Accuracy of the network on the 10000 test corner_attack-attacked images: 10.85 %\n",
            "Average distortion on images is: 1-norm: 1.4094999999999995, inf-norm: 34.985\n",
            "Confusion matrix on corner_attack-attacked images saved under training_logs folder\n",
            "\n",
            "\n",
            "Study of <function pgd_attack at 0x7f37001631e0>  on 1 loss, classified by 1.\n",
            "Accuracy of the network on the 10000 test raw images: 68.27 %\n",
            "Accuracy of the network on the 10000 test pgd_attack-attacked images: 8.16 %\n",
            "Average distortion on images is: 1-norm: 0.02000000000000001, inf-norm: 0.03000000000000002\n",
            "Confusion matrix on pgd_attack-attacked images saved under training_logs folder\n",
            "\n",
            "\n",
            "Study of <function furthest_neuron_carlini_att at 0x7f36ee2321e0>  on 1 loss, classified by 1.\n",
            "Accuracy of the network on the 10000 test raw images: 69.14 %\n",
            "Accuracy of the network on the 10000 test furthest_neuron_carlini_att-attacked images: 68.17 %\n",
            "Average distortion on images is: 1-norm: 0.00075, inf-norm: 0.016750000000000004\n",
            "Confusion matrix on furthest_neuron_carlini_att-attacked images saved under training_logs folder\n",
            "\n",
            "\n",
            "Study of <function corner_attack at 0x7f36ee150f28>  on 1 loss, classified by 1.\n",
            "Accuracy of the network on the 10000 test raw images: 68.67 %\n",
            "Accuracy of the network on the 10000 test corner_attack-attacked images: 10.3 %\n",
            "Average distortion on images is: 1-norm: 1.3982499999999995, inf-norm: 34.982000000000006\n",
            "Confusion matrix on corner_attack-attacked images saved under training_logs folder\n"
          ],
          "name": "stdout"
        },
        {
          "output_type": "display_data",
          "data": {
            "image/png": "[encoded data removed]",
            "text/plain": [
              "<Figure size 576x432 with 1 Axes>"
            ]
          },
          "metadata": {
            "tags": [],
            "needs_background": "light"
          }
        },
        {
          "output_type": "display_data",
          "data": {
            "image/png": "[encoded data removed]",
            "text/plain": [
              "<Figure size 576x432 with 1 Axes>"
            ]
          },
          "metadata": {
            "tags": [],
            "needs_background": "light"
          }
        },
        {
          "output_type": "display_data",
          "data": {
            "image/png": "[encoded data removed]",
            "text/plain": [
              "<Figure size 576x432 with 1 Axes>"
            ]
          },
          "metadata": {
            "tags": [],
            "needs_background": "light"
          }
        },
        {
          "output_type": "display_data",
          "data": {
            "image/png": "[encoded data removed]",
            "text/plain": [
              "<Figure size 576x432 with 1 Axes>"
            ]
          },
          "metadata": {
            "tags": [],
            "needs_background": "light"
          }
        },
        {
          "output_type": "display_data",
          "data": {
            "image/png": "[encoded data removed]",
            "text/plain": [
              "<Figure size 576x432 with 1 Axes>"
            ]
          },
          "metadata": {
            "tags": [],
            "needs_background": "light"
          }
        },
        {
          "output_type": "display_data",
          "data": {
            "image/png": "[encoded data removed]",
            "text/plain": [
              "<Figure size 576x432 with 1 Axes>"
            ]
          },
          "metadata": {
            "tags": [],
            "needs_background": "light"
          }
        },
        {
          "output_type": "display_data",
          "data": {
            "image/png": "[encoded data removed]",
            "text/plain": [
              "<Figure size 576x432 with 1 Axes>"
            ]
          },
          "metadata": {
            "tags": [],
            "needs_background": "light"
          }
        },
        {
          "output_type": "display_data",
          "data": {
            "image/png": "[encoded data removed]",
            "text/plain": [
              "<Figure size 576x432 with 1 Axes>"
            ]
          },
          "metadata": {
            "tags": [],
            "needs_background": "light"
          }
        },
        {
          "output_type": "display_data",
          "data": {
            "image/png": "[encoded data removed]",
            "text/plain": [
              "<Figure size 576x432 with 1 Axes>"
            ]
          },
          "metadata": {
            "tags": [],
            "needs_background": "light"
          }
        }
      ]
    },
    {
      "cell_type": "code",
      "metadata": {
        "id": "beB665Y8rCkS",
        "outputId": "ad1aff5f-1f83-417d-cd45-a55ac4070ecf",
        "colab": {
          "base_uri": "https://localhost:8080/",
          "height": 279
        }
      },
      "source": [
        "plt.style.use('seaborn-deep')\n",
        "plt.plot(accs[0][1:], label=\"Acc classic-CNN (attack on itself)\")\n",
        "plt.plot(accs[1][1:], label=\"Acc Adv-Trained-CNN (attack on classic CNN)\")\n",
        "plt.plot(accs[2][1:], label=\"Acc Adv-Trained-CNN (attack on itself)\")\n",
        "plt.legend()\n",
        "plt.xlabel(\"Size of the corner\")\n",
        "plt.ylabel(\"Accuracy (%)\")\n",
        "plt.xticks(np.arange(0, 32, 2), range(1, 33, 2))\n",
        "plt.savefig(\"CORNER_ACCURACIES_31.png\", dpi=1000)\n",
        "plt.show()"
      ],
      "execution_count": null,
      "outputs": [
        {
          "output_type": "display_data",
          "data": {
            "image/png": "[encoded data removed]",
            "text/plain": [
              "<Figure size 432x288 with 1 Axes>"
            ]
          },
          "metadata": {
            "tags": [],
            "needs_background": "light"
          }
        }
      ]
    },
    {
      "cell_type": "code",
      "metadata": {
        "id": "3VV5LxCXGwlM",
        "outputId": "ce788b78-8b9e-421a-e414-62ebf00a236d",
        "colab": {
          "base_uri": "https://localhost:8080/",
          "height": 279
        }
      },
      "source": [
        "plt.style.use('seaborn-deep')\n",
        "plt.plot(accu[:10], label=\"Accuracy classic-CNN\")\n",
        "plt.legend()\n",
        "plt.xlabel(\"Number of iterations\")\n",
        "plt.ylabel(\"Accuracy (%)\")\n",
        "plt.savefig(\"Nb_it_CORNER_ACCURACIES_32.png\", dpi=1000)\n",
        "plt.show()"
      ],
      "execution_count": null,
      "outputs": [
        {
          "output_type": "display_data",
          "data": {
            "image/png": "[encoded data removed]",
            "text/plain": [
              "<Figure size 432x288 with 1 Axes>"
            ]
          },
          "metadata": {
            "tags": [],
            "needs_background": "light"
          }
        }
      ]
    },
    {
      "cell_type": "code",
      "metadata": {
        "id": "p2aDSxmyHBdC",
        "outputId": "80106a3e-74b2-4d9e-bff7-6d4f9f7edfe8",
        "colab": {
          "base_uri": "https://localhost:8080/",
          "height": 279
        }
      },
      "source": [
        "plt.style.use('seaborn-deep')\n",
        "plt.plot(accu[1:15], label=\"Accuracy classic-CNN\")\n",
        "plt.legend()\n",
        "plt.xlabel(\"Number of iterations\")\n",
        "plt.ylabel(\"Accuracy (%)\")\n",
        "plt.xticks(np.arange(0, 15, 1), range(1, 15))\n",
        "plt.savefig(\"Nb_it_CORNER_ACCURACIES_31.png\", dpi=1000)\n",
        "plt.show()"
      ],
      "execution_count": null,
      "outputs": [
        {
          "output_type": "display_data",
          "data": {
            "image/png": "[encoded data removed]",
            "text/plain": [
              "<Figure size 432x288 with 1 Axes>"
            ]
          },
          "metadata": {
            "tags": [],
            "needs_background": "light"
          }
        }
      ]
    },
    {
      "cell_type": "code",
      "metadata": {
        "id": "57vw6nVaH4aW"
      },
      "source": [
        ""
      ],
      "execution_count": null,
      "outputs": []
    }
  ]
}